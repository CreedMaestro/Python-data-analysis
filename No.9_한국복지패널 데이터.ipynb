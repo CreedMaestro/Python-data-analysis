{
 "cells": [
  {
   "cell_type": "markdown",
   "id": "7bd4bf0b-1f6d-4ffa-a41a-be889ba3528a",
   "metadata": {},
   "source": [
    "# 한국 복지 패널 데이터 분석 프로젝트 - 한국인의 삶을 파악하라!"
   ]
  },
  {
   "cell_type": "markdown",
   "id": "1900ae7a-2ba5-479e-84fa-60d0772a2f1e",
   "metadata": {},
   "source": [
    "## 09-1 '한국복지패널 데이터' 분석 준비하기"
   ]
  },
  {
   "cell_type": "code",
   "execution_count": 1,
   "id": "fc9bf2c6-0422-4eea-998f-38b0c45ecd06",
   "metadata": {},
   "outputs": [
    {
     "name": "stdout",
     "output_type": "stream",
     "text": [
      "Requirement already satisfied: pyreadstat in c:\\users\\micae\\anaconda3\\lib\\site-packages (1.2.1)\n",
      "Requirement already satisfied: pandas>=1.2.0 in c:\\users\\micae\\anaconda3\\lib\\site-packages (from pyreadstat) (1.4.4)\n",
      "Requirement already satisfied: python-dateutil>=2.8.1 in c:\\users\\micae\\anaconda3\\lib\\site-packages (from pandas>=1.2.0->pyreadstat) (2.8.2)\n",
      "Requirement already satisfied: numpy>=1.18.5 in c:\\users\\micae\\anaconda3\\lib\\site-packages (from pandas>=1.2.0->pyreadstat) (1.21.5)\n",
      "Requirement already satisfied: pytz>=2020.1 in c:\\users\\micae\\anaconda3\\lib\\site-packages (from pandas>=1.2.0->pyreadstat) (2022.1)\n",
      "Requirement already satisfied: six>=1.5 in c:\\users\\micae\\anaconda3\\lib\\site-packages (from python-dateutil>=2.8.1->pandas>=1.2.0->pyreadstat) (1.16.0)\n"
     ]
    }
   ],
   "source": [
    "# spss 파일 로드 위해 패키지 설치\n",
    "!pip install pyreadstat"
   ]
  },
  {
   "cell_type": "code",
   "execution_count": 2,
   "id": "ae2b46d7-58ad-4ac7-9a22-d6cf79316960",
   "metadata": {},
   "outputs": [],
   "source": [
    "import pandas as pd\n",
    "import numpy as np\n",
    "import seaborn as sns"
   ]
  },
  {
   "cell_type": "code",
   "execution_count": 3,
   "id": "48376eb4-8973-4e31-9704-41320d90e9b0",
   "metadata": {},
   "outputs": [],
   "source": [
    "raw_welfare = pd.read_spss('Koweps_hpwc14_2019_beta2.sav')"
   ]
  },
  {
   "cell_type": "code",
   "execution_count": 4,
   "id": "3323e65b-8fe5-4bdf-ae22-27ab98cbd43c",
   "metadata": {},
   "outputs": [],
   "source": [
    "welfare = raw_welfare.copy()"
   ]
  },
  {
   "cell_type": "code",
   "execution_count": 5,
   "id": "6ec8850a-556a-4a49-8a30-302d8eb7e06c",
   "metadata": {},
   "outputs": [
    {
     "data": {
      "text/html": [
       "<div>\n",
       "<style scoped>\n",
       "    .dataframe tbody tr th:only-of-type {\n",
       "        vertical-align: middle;\n",
       "    }\n",
       "\n",
       "    .dataframe tbody tr th {\n",
       "        vertical-align: top;\n",
       "    }\n",
       "\n",
       "    .dataframe thead th {\n",
       "        text-align: right;\n",
       "    }\n",
       "</style>\n",
       "<table border=\"1\" class=\"dataframe\">\n",
       "  <thead>\n",
       "    <tr style=\"text-align: right;\">\n",
       "      <th></th>\n",
       "      <th>h14_id</th>\n",
       "      <th>h14_ind</th>\n",
       "      <th>h14_sn</th>\n",
       "      <th>h14_merkey</th>\n",
       "      <th>h_new</th>\n",
       "      <th>h14_cobf</th>\n",
       "      <th>p14_wsc</th>\n",
       "      <th>p14_wsl</th>\n",
       "      <th>p14_wgc</th>\n",
       "      <th>p14_wgl</th>\n",
       "      <th>...</th>\n",
       "      <th>wc14_64</th>\n",
       "      <th>wc14_65</th>\n",
       "      <th>wc14_5aq4</th>\n",
       "      <th>wc14_5aq5</th>\n",
       "      <th>wc14_5aq6</th>\n",
       "      <th>h14_pers_income1</th>\n",
       "      <th>h14_pers_income2</th>\n",
       "      <th>h14_pers_income3</th>\n",
       "      <th>h14_pers_income4</th>\n",
       "      <th>h14_pers_income5</th>\n",
       "    </tr>\n",
       "  </thead>\n",
       "  <tbody>\n",
       "    <tr>\n",
       "      <th>0</th>\n",
       "      <td>2.0</td>\n",
       "      <td>1.0</td>\n",
       "      <td>1.0</td>\n",
       "      <td>20101.0</td>\n",
       "      <td>0.0</td>\n",
       "      <td>NaN</td>\n",
       "      <td>0.291589</td>\n",
       "      <td>0.291589</td>\n",
       "      <td>1307.764781</td>\n",
       "      <td>1307.764781</td>\n",
       "      <td>...</td>\n",
       "      <td>NaN</td>\n",
       "      <td></td>\n",
       "      <td>NaN</td>\n",
       "      <td>NaN</td>\n",
       "      <td>NaN</td>\n",
       "      <td>NaN</td>\n",
       "      <td>NaN</td>\n",
       "      <td>NaN</td>\n",
       "      <td>0.0</td>\n",
       "      <td>NaN</td>\n",
       "    </tr>\n",
       "    <tr>\n",
       "      <th>1</th>\n",
       "      <td>3.0</td>\n",
       "      <td>1.0</td>\n",
       "      <td>1.0</td>\n",
       "      <td>30101.0</td>\n",
       "      <td>0.0</td>\n",
       "      <td>NaN</td>\n",
       "      <td>0.419753</td>\n",
       "      <td>0.419753</td>\n",
       "      <td>1882.570960</td>\n",
       "      <td>1882.570960</td>\n",
       "      <td>...</td>\n",
       "      <td>NaN</td>\n",
       "      <td></td>\n",
       "      <td>NaN</td>\n",
       "      <td>NaN</td>\n",
       "      <td>NaN</td>\n",
       "      <td>NaN</td>\n",
       "      <td>NaN</td>\n",
       "      <td>NaN</td>\n",
       "      <td>0.0</td>\n",
       "      <td>NaN</td>\n",
       "    </tr>\n",
       "    <tr>\n",
       "      <th>2</th>\n",
       "      <td>4.0</td>\n",
       "      <td>1.0</td>\n",
       "      <td>1.0</td>\n",
       "      <td>40101.0</td>\n",
       "      <td>0.0</td>\n",
       "      <td>NaN</td>\n",
       "      <td>0.265263</td>\n",
       "      <td>0.265980</td>\n",
       "      <td>1189.691668</td>\n",
       "      <td>1192.908537</td>\n",
       "      <td>...</td>\n",
       "      <td>NaN</td>\n",
       "      <td></td>\n",
       "      <td>NaN</td>\n",
       "      <td>NaN</td>\n",
       "      <td>NaN</td>\n",
       "      <td>NaN</td>\n",
       "      <td>1284.0</td>\n",
       "      <td>NaN</td>\n",
       "      <td>0.0</td>\n",
       "      <td>NaN</td>\n",
       "    </tr>\n",
       "    <tr>\n",
       "      <th>3</th>\n",
       "      <td>6.0</td>\n",
       "      <td>1.0</td>\n",
       "      <td>1.0</td>\n",
       "      <td>60101.0</td>\n",
       "      <td>0.0</td>\n",
       "      <td>NaN</td>\n",
       "      <td>0.494906</td>\n",
       "      <td>0.495941</td>\n",
       "      <td>2219.630833</td>\n",
       "      <td>2224.273816</td>\n",
       "      <td>...</td>\n",
       "      <td>1.0</td>\n",
       "      <td>.</td>\n",
       "      <td>2.0</td>\n",
       "      <td>4.0</td>\n",
       "      <td>4.0</td>\n",
       "      <td>2304.0</td>\n",
       "      <td>NaN</td>\n",
       "      <td>1800.0</td>\n",
       "      <td>0.0</td>\n",
       "      <td>NaN</td>\n",
       "    </tr>\n",
       "    <tr>\n",
       "      <th>4</th>\n",
       "      <td>6.0</td>\n",
       "      <td>1.0</td>\n",
       "      <td>1.0</td>\n",
       "      <td>60101.0</td>\n",
       "      <td>0.0</td>\n",
       "      <td>NaN</td>\n",
       "      <td>1.017935</td>\n",
       "      <td>1.017935</td>\n",
       "      <td>4565.389177</td>\n",
       "      <td>4565.389177</td>\n",
       "      <td>...</td>\n",
       "      <td>1.0</td>\n",
       "      <td>.</td>\n",
       "      <td>1.0</td>\n",
       "      <td>5.0</td>\n",
       "      <td>2.0</td>\n",
       "      <td>NaN</td>\n",
       "      <td>NaN</td>\n",
       "      <td>NaN</td>\n",
       "      <td>0.0</td>\n",
       "      <td>NaN</td>\n",
       "    </tr>\n",
       "    <tr>\n",
       "      <th>...</th>\n",
       "      <td>...</td>\n",
       "      <td>...</td>\n",
       "      <td>...</td>\n",
       "      <td>...</td>\n",
       "      <td>...</td>\n",
       "      <td>...</td>\n",
       "      <td>...</td>\n",
       "      <td>...</td>\n",
       "      <td>...</td>\n",
       "      <td>...</td>\n",
       "      <td>...</td>\n",
       "      <td>...</td>\n",
       "      <td>...</td>\n",
       "      <td>...</td>\n",
       "      <td>...</td>\n",
       "      <td>...</td>\n",
       "      <td>...</td>\n",
       "      <td>...</td>\n",
       "      <td>...</td>\n",
       "      <td>...</td>\n",
       "      <td>...</td>\n",
       "    </tr>\n",
       "    <tr>\n",
       "      <th>14413</th>\n",
       "      <td>9800.0</td>\n",
       "      <td>7.0</td>\n",
       "      <td>1.0</td>\n",
       "      <td>98000701.0</td>\n",
       "      <td>1.0</td>\n",
       "      <td>NaN</td>\n",
       "      <td>NaN</td>\n",
       "      <td>NaN</td>\n",
       "      <td>NaN</td>\n",
       "      <td>NaN</td>\n",
       "      <td>...</td>\n",
       "      <td>NaN</td>\n",
       "      <td></td>\n",
       "      <td>NaN</td>\n",
       "      <td>NaN</td>\n",
       "      <td>NaN</td>\n",
       "      <td>NaN</td>\n",
       "      <td>NaN</td>\n",
       "      <td>NaN</td>\n",
       "      <td>0.0</td>\n",
       "      <td>NaN</td>\n",
       "    </tr>\n",
       "    <tr>\n",
       "      <th>14414</th>\n",
       "      <td>9800.0</td>\n",
       "      <td>7.0</td>\n",
       "      <td>1.0</td>\n",
       "      <td>98000701.0</td>\n",
       "      <td>1.0</td>\n",
       "      <td>NaN</td>\n",
       "      <td>NaN</td>\n",
       "      <td>NaN</td>\n",
       "      <td>NaN</td>\n",
       "      <td>NaN</td>\n",
       "      <td>...</td>\n",
       "      <td>NaN</td>\n",
       "      <td></td>\n",
       "      <td>NaN</td>\n",
       "      <td>NaN</td>\n",
       "      <td>NaN</td>\n",
       "      <td>NaN</td>\n",
       "      <td>NaN</td>\n",
       "      <td>NaN</td>\n",
       "      <td>0.0</td>\n",
       "      <td>NaN</td>\n",
       "    </tr>\n",
       "    <tr>\n",
       "      <th>14415</th>\n",
       "      <td>9800.0</td>\n",
       "      <td>7.0</td>\n",
       "      <td>1.0</td>\n",
       "      <td>98000701.0</td>\n",
       "      <td>1.0</td>\n",
       "      <td>NaN</td>\n",
       "      <td>NaN</td>\n",
       "      <td>NaN</td>\n",
       "      <td>NaN</td>\n",
       "      <td>NaN</td>\n",
       "      <td>...</td>\n",
       "      <td>NaN</td>\n",
       "      <td></td>\n",
       "      <td>NaN</td>\n",
       "      <td>NaN</td>\n",
       "      <td>NaN</td>\n",
       "      <td>NaN</td>\n",
       "      <td>208.0</td>\n",
       "      <td>NaN</td>\n",
       "      <td>0.0</td>\n",
       "      <td>NaN</td>\n",
       "    </tr>\n",
       "    <tr>\n",
       "      <th>14416</th>\n",
       "      <td>9800.0</td>\n",
       "      <td>7.0</td>\n",
       "      <td>1.0</td>\n",
       "      <td>98000701.0</td>\n",
       "      <td>1.0</td>\n",
       "      <td>NaN</td>\n",
       "      <td>NaN</td>\n",
       "      <td>NaN</td>\n",
       "      <td>NaN</td>\n",
       "      <td>NaN</td>\n",
       "      <td>...</td>\n",
       "      <td>5.0</td>\n",
       "      <td>.</td>\n",
       "      <td>4.0</td>\n",
       "      <td>3.0</td>\n",
       "      <td>3.0</td>\n",
       "      <td>NaN</td>\n",
       "      <td>1200.0</td>\n",
       "      <td>NaN</td>\n",
       "      <td>0.0</td>\n",
       "      <td>NaN</td>\n",
       "    </tr>\n",
       "    <tr>\n",
       "      <th>14417</th>\n",
       "      <td>9800.0</td>\n",
       "      <td>7.0</td>\n",
       "      <td>1.0</td>\n",
       "      <td>98000701.0</td>\n",
       "      <td>1.0</td>\n",
       "      <td>NaN</td>\n",
       "      <td>NaN</td>\n",
       "      <td>NaN</td>\n",
       "      <td>NaN</td>\n",
       "      <td>NaN</td>\n",
       "      <td>...</td>\n",
       "      <td>NaN</td>\n",
       "      <td></td>\n",
       "      <td>NaN</td>\n",
       "      <td>NaN</td>\n",
       "      <td>NaN</td>\n",
       "      <td>NaN</td>\n",
       "      <td>NaN</td>\n",
       "      <td>NaN</td>\n",
       "      <td>0.0</td>\n",
       "      <td>NaN</td>\n",
       "    </tr>\n",
       "  </tbody>\n",
       "</table>\n",
       "<p>14418 rows × 830 columns</p>\n",
       "</div>"
      ],
      "text/plain": [
       "       h14_id  h14_ind  h14_sn  h14_merkey  h_new  h14_cobf   p14_wsc  \\\n",
       "0         2.0      1.0     1.0     20101.0    0.0       NaN  0.291589   \n",
       "1         3.0      1.0     1.0     30101.0    0.0       NaN  0.419753   \n",
       "2         4.0      1.0     1.0     40101.0    0.0       NaN  0.265263   \n",
       "3         6.0      1.0     1.0     60101.0    0.0       NaN  0.494906   \n",
       "4         6.0      1.0     1.0     60101.0    0.0       NaN  1.017935   \n",
       "...       ...      ...     ...         ...    ...       ...       ...   \n",
       "14413  9800.0      7.0     1.0  98000701.0    1.0       NaN       NaN   \n",
       "14414  9800.0      7.0     1.0  98000701.0    1.0       NaN       NaN   \n",
       "14415  9800.0      7.0     1.0  98000701.0    1.0       NaN       NaN   \n",
       "14416  9800.0      7.0     1.0  98000701.0    1.0       NaN       NaN   \n",
       "14417  9800.0      7.0     1.0  98000701.0    1.0       NaN       NaN   \n",
       "\n",
       "        p14_wsl      p14_wgc      p14_wgl  ...  wc14_64  wc14_65  wc14_5aq4  \\\n",
       "0      0.291589  1307.764781  1307.764781  ...      NaN                 NaN   \n",
       "1      0.419753  1882.570960  1882.570960  ...      NaN                 NaN   \n",
       "2      0.265980  1189.691668  1192.908537  ...      NaN                 NaN   \n",
       "3      0.495941  2219.630833  2224.273816  ...      1.0        .        2.0   \n",
       "4      1.017935  4565.389177  4565.389177  ...      1.0        .        1.0   \n",
       "...         ...          ...          ...  ...      ...      ...        ...   \n",
       "14413       NaN          NaN          NaN  ...      NaN                 NaN   \n",
       "14414       NaN          NaN          NaN  ...      NaN                 NaN   \n",
       "14415       NaN          NaN          NaN  ...      NaN                 NaN   \n",
       "14416       NaN          NaN          NaN  ...      5.0        .        4.0   \n",
       "14417       NaN          NaN          NaN  ...      NaN                 NaN   \n",
       "\n",
       "       wc14_5aq5  wc14_5aq6  h14_pers_income1  h14_pers_income2  \\\n",
       "0            NaN        NaN               NaN               NaN   \n",
       "1            NaN        NaN               NaN               NaN   \n",
       "2            NaN        NaN               NaN            1284.0   \n",
       "3            4.0        4.0            2304.0               NaN   \n",
       "4            5.0        2.0               NaN               NaN   \n",
       "...          ...        ...               ...               ...   \n",
       "14413        NaN        NaN               NaN               NaN   \n",
       "14414        NaN        NaN               NaN               NaN   \n",
       "14415        NaN        NaN               NaN             208.0   \n",
       "14416        3.0        3.0               NaN            1200.0   \n",
       "14417        NaN        NaN               NaN               NaN   \n",
       "\n",
       "       h14_pers_income3  h14_pers_income4  h14_pers_income5  \n",
       "0                   NaN               0.0               NaN  \n",
       "1                   NaN               0.0               NaN  \n",
       "2                   NaN               0.0               NaN  \n",
       "3                1800.0               0.0               NaN  \n",
       "4                   NaN               0.0               NaN  \n",
       "...                 ...               ...               ...  \n",
       "14413               NaN               0.0               NaN  \n",
       "14414               NaN               0.0               NaN  \n",
       "14415               NaN               0.0               NaN  \n",
       "14416               NaN               0.0               NaN  \n",
       "14417               NaN               0.0               NaN  \n",
       "\n",
       "[14418 rows x 830 columns]"
      ]
     },
     "execution_count": 5,
     "metadata": {},
     "output_type": "execute_result"
    }
   ],
   "source": [
    "# 데이터 구조 파악\n",
    "welfare"
   ]
  },
  {
   "cell_type": "code",
   "execution_count": 6,
   "id": "f37fa363-dc4c-45a7-aa15-1520d9def656",
   "metadata": {},
   "outputs": [
    {
     "data": {
      "text/plain": [
       "(14418, 830)"
      ]
     },
     "execution_count": 6,
     "metadata": {},
     "output_type": "execute_result"
    }
   ],
   "source": [
    "welfare.shape"
   ]
  },
  {
   "cell_type": "code",
   "execution_count": 7,
   "id": "0834658a-76cc-446b-bcaf-e6398ea52774",
   "metadata": {},
   "outputs": [
    {
     "name": "stdout",
     "output_type": "stream",
     "text": [
      "<class 'pandas.core.frame.DataFrame'>\n",
      "RangeIndex: 14418 entries, 0 to 14417\n",
      "Columns: 830 entries, h14_id to h14_pers_income5\n",
      "dtypes: float64(826), object(4)\n",
      "memory usage: 91.3+ MB\n"
     ]
    }
   ],
   "source": [
    "welfare.info()"
   ]
  },
  {
   "cell_type": "code",
   "execution_count": 8,
   "id": "f54be830-cdfb-4085-8811-64e80afbf3d7",
   "metadata": {},
   "outputs": [
    {
     "data": {
      "text/html": [
       "<div>\n",
       "<style scoped>\n",
       "    .dataframe tbody tr th:only-of-type {\n",
       "        vertical-align: middle;\n",
       "    }\n",
       "\n",
       "    .dataframe tbody tr th {\n",
       "        vertical-align: top;\n",
       "    }\n",
       "\n",
       "    .dataframe thead th {\n",
       "        text-align: right;\n",
       "    }\n",
       "</style>\n",
       "<table border=\"1\" class=\"dataframe\">\n",
       "  <thead>\n",
       "    <tr style=\"text-align: right;\">\n",
       "      <th></th>\n",
       "      <th>h14_id</th>\n",
       "      <th>h14_ind</th>\n",
       "      <th>h14_sn</th>\n",
       "      <th>h14_merkey</th>\n",
       "      <th>h_new</th>\n",
       "      <th>h14_cobf</th>\n",
       "      <th>p14_wsc</th>\n",
       "      <th>p14_wsl</th>\n",
       "      <th>p14_wgc</th>\n",
       "      <th>p14_wgl</th>\n",
       "      <th>...</th>\n",
       "      <th>wc14_63</th>\n",
       "      <th>wc14_64</th>\n",
       "      <th>wc14_5aq4</th>\n",
       "      <th>wc14_5aq5</th>\n",
       "      <th>wc14_5aq6</th>\n",
       "      <th>h14_pers_income1</th>\n",
       "      <th>h14_pers_income2</th>\n",
       "      <th>h14_pers_income3</th>\n",
       "      <th>h14_pers_income4</th>\n",
       "      <th>h14_pers_income5</th>\n",
       "    </tr>\n",
       "  </thead>\n",
       "  <tbody>\n",
       "    <tr>\n",
       "      <th>count</th>\n",
       "      <td>14418.000000</td>\n",
       "      <td>14418.000000</td>\n",
       "      <td>14418.000000</td>\n",
       "      <td>1.441800e+04</td>\n",
       "      <td>14418.000000</td>\n",
       "      <td>121.000000</td>\n",
       "      <td>11513.000000</td>\n",
       "      <td>11513.000000</td>\n",
       "      <td>11513.000000</td>\n",
       "      <td>11513.000000</td>\n",
       "      <td>...</td>\n",
       "      <td>2027.000000</td>\n",
       "      <td>2027.000000</td>\n",
       "      <td>2027.000000</td>\n",
       "      <td>2027.000000</td>\n",
       "      <td>2027.000000</td>\n",
       "      <td>2659.000000</td>\n",
       "      <td>3331.000000</td>\n",
       "      <td>989.000000</td>\n",
       "      <td>14418.000000</td>\n",
       "      <td>715.000000</td>\n",
       "    </tr>\n",
       "    <tr>\n",
       "      <th>mean</th>\n",
       "      <td>4672.108406</td>\n",
       "      <td>3.121723</td>\n",
       "      <td>1.004855</td>\n",
       "      <td>4.672140e+07</td>\n",
       "      <td>0.201484</td>\n",
       "      <td>2.256198</td>\n",
       "      <td>1.000000</td>\n",
       "      <td>1.000000</td>\n",
       "      <td>4484.952219</td>\n",
       "      <td>4484.952541</td>\n",
       "      <td>...</td>\n",
       "      <td>3.211643</td>\n",
       "      <td>3.743957</td>\n",
       "      <td>3.513567</td>\n",
       "      <td>4.100641</td>\n",
       "      <td>3.233350</td>\n",
       "      <td>4141.380594</td>\n",
       "      <td>1389.440408</td>\n",
       "      <td>3457.835187</td>\n",
       "      <td>2.038702</td>\n",
       "      <td>1183.292308</td>\n",
       "    </tr>\n",
       "    <tr>\n",
       "      <th>std</th>\n",
       "      <td>2792.998128</td>\n",
       "      <td>3.297963</td>\n",
       "      <td>0.143205</td>\n",
       "      <td>2.793014e+07</td>\n",
       "      <td>0.401123</td>\n",
       "      <td>1.675952</td>\n",
       "      <td>0.906021</td>\n",
       "      <td>1.016782</td>\n",
       "      <td>4063.459773</td>\n",
       "      <td>4560.218659</td>\n",
       "      <td>...</td>\n",
       "      <td>2.174768</td>\n",
       "      <td>3.138629</td>\n",
       "      <td>1.045929</td>\n",
       "      <td>0.937712</td>\n",
       "      <td>1.289456</td>\n",
       "      <td>2583.755449</td>\n",
       "      <td>1211.910836</td>\n",
       "      <td>6619.516319</td>\n",
       "      <td>32.965477</td>\n",
       "      <td>2147.418274</td>\n",
       "    </tr>\n",
       "    <tr>\n",
       "      <th>min</th>\n",
       "      <td>2.000000</td>\n",
       "      <td>1.000000</td>\n",
       "      <td>1.000000</td>\n",
       "      <td>2.010100e+04</td>\n",
       "      <td>0.000000</td>\n",
       "      <td>1.000000</td>\n",
       "      <td>0.001998</td>\n",
       "      <td>0.000000</td>\n",
       "      <td>8.960093</td>\n",
       "      <td>0.000000</td>\n",
       "      <td>...</td>\n",
       "      <td>1.000000</td>\n",
       "      <td>1.000000</td>\n",
       "      <td>1.000000</td>\n",
       "      <td>1.000000</td>\n",
       "      <td>1.000000</td>\n",
       "      <td>0.000000</td>\n",
       "      <td>0.000000</td>\n",
       "      <td>-47000.000000</td>\n",
       "      <td>0.000000</td>\n",
       "      <td>-10600.000000</td>\n",
       "    </tr>\n",
       "    <tr>\n",
       "      <th>25%</th>\n",
       "      <td>2356.000000</td>\n",
       "      <td>1.000000</td>\n",
       "      <td>1.000000</td>\n",
       "      <td>2.356030e+07</td>\n",
       "      <td>0.000000</td>\n",
       "      <td>1.000000</td>\n",
       "      <td>0.341814</td>\n",
       "      <td>0.269286</td>\n",
       "      <td>1533.021553</td>\n",
       "      <td>1207.736094</td>\n",
       "      <td>...</td>\n",
       "      <td>1.000000</td>\n",
       "      <td>2.000000</td>\n",
       "      <td>3.000000</td>\n",
       "      <td>4.000000</td>\n",
       "      <td>2.000000</td>\n",
       "      <td>2448.000000</td>\n",
       "      <td>391.500000</td>\n",
       "      <td>1000.000000</td>\n",
       "      <td>0.000000</td>\n",
       "      <td>206.000000</td>\n",
       "    </tr>\n",
       "    <tr>\n",
       "      <th>50%</th>\n",
       "      <td>4535.000000</td>\n",
       "      <td>1.000000</td>\n",
       "      <td>1.000000</td>\n",
       "      <td>4.535010e+07</td>\n",
       "      <td>0.000000</td>\n",
       "      <td>2.000000</td>\n",
       "      <td>0.726304</td>\n",
       "      <td>0.704045</td>\n",
       "      <td>3257.436901</td>\n",
       "      <td>3157.609630</td>\n",
       "      <td>...</td>\n",
       "      <td>3.000000</td>\n",
       "      <td>3.000000</td>\n",
       "      <td>4.000000</td>\n",
       "      <td>4.000000</td>\n",
       "      <td>3.000000</td>\n",
       "      <td>3540.000000</td>\n",
       "      <td>1116.000000</td>\n",
       "      <td>2498.000000</td>\n",
       "      <td>0.000000</td>\n",
       "      <td>530.000000</td>\n",
       "    </tr>\n",
       "    <tr>\n",
       "      <th>75%</th>\n",
       "      <td>6616.000000</td>\n",
       "      <td>7.000000</td>\n",
       "      <td>1.000000</td>\n",
       "      <td>6.616010e+07</td>\n",
       "      <td>0.000000</td>\n",
       "      <td>2.000000</td>\n",
       "      <td>1.366071</td>\n",
       "      <td>1.390045</td>\n",
       "      <td>6126.762919</td>\n",
       "      <td>6234.287538</td>\n",
       "      <td>...</td>\n",
       "      <td>5.000000</td>\n",
       "      <td>5.000000</td>\n",
       "      <td>4.000000</td>\n",
       "      <td>5.000000</td>\n",
       "      <td>4.000000</td>\n",
       "      <td>5378.500000</td>\n",
       "      <td>2040.000000</td>\n",
       "      <td>4687.000000</td>\n",
       "      <td>0.000000</td>\n",
       "      <td>1295.000000</td>\n",
       "    </tr>\n",
       "    <tr>\n",
       "      <th>max</th>\n",
       "      <td>9800.000000</td>\n",
       "      <td>14.000000</td>\n",
       "      <td>9.000000</td>\n",
       "      <td>9.800070e+07</td>\n",
       "      <td>1.000000</td>\n",
       "      <td>7.000000</td>\n",
       "      <td>4.727006</td>\n",
       "      <td>5.790039</td>\n",
       "      <td>21200.393903</td>\n",
       "      <td>25968.049029</td>\n",
       "      <td>...</td>\n",
       "      <td>9.000000</td>\n",
       "      <td>99.000000</td>\n",
       "      <td>9.000000</td>\n",
       "      <td>9.000000</td>\n",
       "      <td>9.000000</td>\n",
       "      <td>22700.000000</td>\n",
       "      <td>11500.000000</td>\n",
       "      <td>170000.000000</td>\n",
       "      <td>3000.000000</td>\n",
       "      <td>22644.000000</td>\n",
       "    </tr>\n",
       "  </tbody>\n",
       "</table>\n",
       "<p>8 rows × 826 columns</p>\n",
       "</div>"
      ],
      "text/plain": [
       "             h14_id       h14_ind        h14_sn    h14_merkey         h_new  \\\n",
       "count  14418.000000  14418.000000  14418.000000  1.441800e+04  14418.000000   \n",
       "mean    4672.108406      3.121723      1.004855  4.672140e+07      0.201484   \n",
       "std     2792.998128      3.297963      0.143205  2.793014e+07      0.401123   \n",
       "min        2.000000      1.000000      1.000000  2.010100e+04      0.000000   \n",
       "25%     2356.000000      1.000000      1.000000  2.356030e+07      0.000000   \n",
       "50%     4535.000000      1.000000      1.000000  4.535010e+07      0.000000   \n",
       "75%     6616.000000      7.000000      1.000000  6.616010e+07      0.000000   \n",
       "max     9800.000000     14.000000      9.000000  9.800070e+07      1.000000   \n",
       "\n",
       "         h14_cobf       p14_wsc       p14_wsl       p14_wgc       p14_wgl  \\\n",
       "count  121.000000  11513.000000  11513.000000  11513.000000  11513.000000   \n",
       "mean     2.256198      1.000000      1.000000   4484.952219   4484.952541   \n",
       "std      1.675952      0.906021      1.016782   4063.459773   4560.218659   \n",
       "min      1.000000      0.001998      0.000000      8.960093      0.000000   \n",
       "25%      1.000000      0.341814      0.269286   1533.021553   1207.736094   \n",
       "50%      2.000000      0.726304      0.704045   3257.436901   3157.609630   \n",
       "75%      2.000000      1.366071      1.390045   6126.762919   6234.287538   \n",
       "max      7.000000      4.727006      5.790039  21200.393903  25968.049029   \n",
       "\n",
       "       ...      wc14_63      wc14_64    wc14_5aq4    wc14_5aq5    wc14_5aq6  \\\n",
       "count  ...  2027.000000  2027.000000  2027.000000  2027.000000  2027.000000   \n",
       "mean   ...     3.211643     3.743957     3.513567     4.100641     3.233350   \n",
       "std    ...     2.174768     3.138629     1.045929     0.937712     1.289456   \n",
       "min    ...     1.000000     1.000000     1.000000     1.000000     1.000000   \n",
       "25%    ...     1.000000     2.000000     3.000000     4.000000     2.000000   \n",
       "50%    ...     3.000000     3.000000     4.000000     4.000000     3.000000   \n",
       "75%    ...     5.000000     5.000000     4.000000     5.000000     4.000000   \n",
       "max    ...     9.000000    99.000000     9.000000     9.000000     9.000000   \n",
       "\n",
       "       h14_pers_income1  h14_pers_income2  h14_pers_income3  h14_pers_income4  \\\n",
       "count       2659.000000       3331.000000        989.000000      14418.000000   \n",
       "mean        4141.380594       1389.440408       3457.835187          2.038702   \n",
       "std         2583.755449       1211.910836       6619.516319         32.965477   \n",
       "min            0.000000          0.000000     -47000.000000          0.000000   \n",
       "25%         2448.000000        391.500000       1000.000000          0.000000   \n",
       "50%         3540.000000       1116.000000       2498.000000          0.000000   \n",
       "75%         5378.500000       2040.000000       4687.000000          0.000000   \n",
       "max        22700.000000      11500.000000     170000.000000       3000.000000   \n",
       "\n",
       "       h14_pers_income5  \n",
       "count        715.000000  \n",
       "mean        1183.292308  \n",
       "std         2147.418274  \n",
       "min       -10600.000000  \n",
       "25%          206.000000  \n",
       "50%          530.000000  \n",
       "75%         1295.000000  \n",
       "max        22644.000000  \n",
       "\n",
       "[8 rows x 826 columns]"
      ]
     },
     "execution_count": 8,
     "metadata": {},
     "output_type": "execute_result"
    }
   ],
   "source": [
    "# 요약 통계량\n",
    "welfare.describe()"
   ]
  },
  {
   "cell_type": "code",
   "execution_count": 9,
   "id": "0244a0e6-c8b2-4ae2-b893-f5c6a8dd5e78",
   "metadata": {},
   "outputs": [],
   "source": [
    "# 조사설계서 변수 설명 확인 후 직관적인 이름 변경\n",
    "welfare = welfare.rename(\n",
    "    columns = {'h14_g3' : 'sex',\n",
    "               'h14_g4' : 'birth', \n",
    "                'h14_g10' : 'marriage_type',\n",
    "                'h14_g11' : 'religion',\n",
    "                'p1402_8aq1': 'income', \n",
    "                'h14_eco9'  : 'code_job',\n",
    "                'h14_reg7'  : 'code_region'})"
   ]
  },
  {
   "cell_type": "markdown",
   "id": "41c1ab89-5624-4480-804d-35dfa710672f",
   "metadata": {},
   "source": [
    "## 09-2 성별에 따른 월급 차이 - 성별에 따라 월급이 다를까?"
   ]
  },
  {
   "cell_type": "code",
   "execution_count": 10,
   "id": "90785267-140d-4707-b0e0-d0abbc32512f",
   "metadata": {},
   "outputs": [
    {
     "data": {
      "text/plain": [
       "dtype('float64')"
      ]
     },
     "execution_count": 10,
     "metadata": {},
     "output_type": "execute_result"
    }
   ],
   "source": [
    "# 여성들의 성차별에 따른 유리천장을 알아보기 위해 남.녀 월급 차이 확인\n",
    "# 'sex' 데이터 타입 확인\n",
    "welfare['sex'].dtypes"
   ]
  },
  {
   "cell_type": "code",
   "execution_count": 11,
   "id": "496c257c-3102-4678-9000-97d3b9d46311",
   "metadata": {},
   "outputs": [
    {
     "data": {
      "text/plain": [
       "2.0    7913\n",
       "1.0    6505\n",
       "Name: sex, dtype: int64"
      ]
     },
     "execution_count": 11,
     "metadata": {},
     "output_type": "execute_result"
    }
   ],
   "source": [
    "# 'sex' 데이터 빈도 확인 1 - 남자, 2 - 여자, 9 - 모름/무응답\n",
    "welfare['sex'].value_counts()"
   ]
  },
  {
   "cell_type": "code",
   "execution_count": 12,
   "id": "7de3667b-4f2d-42ed-8820-dd4e411c1e10",
   "metadata": {},
   "outputs": [
    {
     "data": {
      "text/plain": [
       "0"
      ]
     },
     "execution_count": 12,
     "metadata": {},
     "output_type": "execute_result"
    }
   ],
   "source": [
    "# 이상치 결측 처리\n",
    "welfare['sex'] = np.where(welfare['sex'] == 9, np.nan, welfare['sex'])\n",
    "\n",
    "# 결측치 확인\n",
    "welfare['sex'].isna().sum()"
   ]
  },
  {
   "cell_type": "code",
   "execution_count": 13,
   "id": "e959caf8-7b39-44f0-90e3-a2301c9b527f",
   "metadata": {},
   "outputs": [
    {
     "data": {
      "text/plain": [
       "female    7913\n",
       "male      6505\n",
       "Name: sex, dtype: int64"
      ]
     },
     "execution_count": 13,
     "metadata": {},
     "output_type": "execute_result"
    }
   ],
   "source": [
    "# 'sex' 변수의 값 1,2를 female, male로 변경후 결과 확인\n",
    "welfare['sex'] = np.where(welfare['sex'] == 1, 'male', 'female')\n",
    "\n",
    "# 성별 빈도 확인\n",
    "welfare['sex'].value_counts()"
   ]
  },
  {
   "cell_type": "code",
   "execution_count": 14,
   "id": "34ada6a0-cda9-440b-80ed-19ca475d46c4",
   "metadata": {},
   "outputs": [
    {
     "data": {
      "text/plain": [
       "<AxesSubplot:xlabel='sex', ylabel='count'>"
      ]
     },
     "execution_count": 14,
     "metadata": {},
     "output_type": "execute_result"
    },
    {
     "data": {
      "image/png": "[encoded data removed]",
      "text/plain": [
       "<Figure size 640x480 with 1 Axes>"
      ]
     },
     "metadata": {},
     "output_type": "display_data"
    }
   ],
   "source": [
    "# 빈도 막대 그래프 생성\n",
    "sns.countplot(data = welfare, x = 'sex')"
   ]
  },
  {
   "cell_type": "code",
   "execution_count": 15,
   "id": "a15244e0-e02e-4817-bd7b-9032022f217f",
   "metadata": {},
   "outputs": [
    {
     "data": {
      "text/plain": [
       "dtype('float64')"
      ]
     },
     "execution_count": 15,
     "metadata": {},
     "output_type": "execute_result"
    }
   ],
   "source": [
    "# 월급 확인하기 . income 변수 타입 확인\n",
    "welfare['income'].dtypes"
   ]
  },
  {
   "cell_type": "code",
   "execution_count": 16,
   "id": "5b506a1c-d254-4379-8383-967eddd558e4",
   "metadata": {},
   "outputs": [
    {
     "data": {
      "text/plain": [
       "count    4534.000000\n",
       "mean      268.455007\n",
       "std       198.021206\n",
       "min         0.000000\n",
       "25%       150.000000\n",
       "50%       220.000000\n",
       "75%       345.750000\n",
       "max      1892.000000\n",
       "Name: income, dtype: float64"
      ]
     },
     "execution_count": 16,
     "metadata": {},
     "output_type": "execute_result"
    }
   ],
   "source": [
    "# income은 연속형 변수이기에 value_counts()로는 너무 많은 결과가 나와 describe()로 통계량 확인\n",
    "welfare['income'].describe()"
   ]
  },
  {
   "cell_type": "code",
   "execution_count": 17,
   "id": "5837594b-7bc6-4f3c-8d6a-6e61cb3565e7",
   "metadata": {},
   "outputs": [
    {
     "data": {
      "text/plain": [
       "<AxesSubplot:xlabel='income', ylabel='Count'>"
      ]
     },
     "execution_count": 17,
     "metadata": {},
     "output_type": "execute_result"
    },
    {
     "data": {
      "image/png": "[encoded data removed]",
      "text/plain": [
       "<Figure size 640x480 with 1 Axes>"
      ]
     },
     "metadata": {},
     "output_type": "display_data"
    }
   ],
   "source": [
    "# histogram으로 분포도 확인\n",
    "# 250만원까지가 가장 많은 사람이 분포되어 있으며, 그 뒤로는 점차 빈도가 감소\n",
    "sns.histplot(data = welfare, x = 'income')"
   ]
  },
  {
   "cell_type": "code",
   "execution_count": 18,
   "id": "72f6fa78-464c-44ef-9480-045daa331a40",
   "metadata": {},
   "outputs": [
    {
     "data": {
      "text/plain": [
       "count    4534.000000\n",
       "mean      268.455007\n",
       "std       198.021206\n",
       "min         0.000000\n",
       "25%       150.000000\n",
       "50%       220.000000\n",
       "75%       345.750000\n",
       "max      1892.000000\n",
       "Name: income, dtype: float64"
      ]
     },
     "execution_count": 18,
     "metadata": {},
     "output_type": "execute_result"
    }
   ],
   "source": [
    "# 이상치, 결측치 확인. 모름/무응답 - 9999로 코딩.\n",
    "welfare['income'].describe()"
   ]
  },
  {
   "cell_type": "code",
   "execution_count": 19,
   "id": "4d449f52-377a-4ef3-baa1-7d1c9004fe94",
   "metadata": {},
   "outputs": [
    {
     "data": {
      "text/plain": [
       "9884"
      ]
     },
     "execution_count": 19,
     "metadata": {},
     "output_type": "execute_result"
    }
   ],
   "source": [
    "# 9884개 결측치 확인\n",
    "welfare['income'].isna().sum()"
   ]
  },
  {
   "cell_type": "code",
   "execution_count": 20,
   "id": "c3bd690c-0717-44a0-82cb-84c6889128db",
   "metadata": {},
   "outputs": [
    {
     "data": {
      "text/plain": [
       "9884"
      ]
     },
     "execution_count": 20,
     "metadata": {},
     "output_type": "execute_result"
    }
   ],
   "source": [
    "# 모름/무응답인 9999가 통계량에서 확인이 되지 않아 결측 처리 절차 생략이 가능. 하지만, 프로세스를 위해 별도로 과정 첨부\n",
    "# 이상치 결측 처리\n",
    "welfare['income'] = np.where(welfare['income'] == 9999, np.nan, welfare['income'])\n",
    "\n",
    "# 결측치 확인\n",
    "welfare['income'].isna().sum()"
   ]
  },
  {
   "cell_type": "code",
   "execution_count": 21,
   "id": "ea72eb75-4792-40d5-9368-58f92464e374",
   "metadata": {},
   "outputs": [
    {
     "data": {
      "text/html": [
       "<div>\n",
       "<style scoped>\n",
       "    .dataframe tbody tr th:only-of-type {\n",
       "        vertical-align: middle;\n",
       "    }\n",
       "\n",
       "    .dataframe tbody tr th {\n",
       "        vertical-align: top;\n",
       "    }\n",
       "\n",
       "    .dataframe thead th {\n",
       "        text-align: right;\n",
       "    }\n",
       "</style>\n",
       "<table border=\"1\" class=\"dataframe\">\n",
       "  <thead>\n",
       "    <tr style=\"text-align: right;\">\n",
       "      <th></th>\n",
       "      <th>sex</th>\n",
       "      <th>mean_income</th>\n",
       "    </tr>\n",
       "  </thead>\n",
       "  <tbody>\n",
       "    <tr>\n",
       "      <th>0</th>\n",
       "      <td>female</td>\n",
       "      <td>186.293096</td>\n",
       "    </tr>\n",
       "    <tr>\n",
       "      <th>1</th>\n",
       "      <td>male</td>\n",
       "      <td>349.037571</td>\n",
       "    </tr>\n",
       "  </tbody>\n",
       "</table>\n",
       "</div>"
      ],
      "text/plain": [
       "      sex  mean_income\n",
       "0  female   186.293096\n",
       "1    male   349.037571"
      ]
     },
     "execution_count": 21,
     "metadata": {},
     "output_type": "execute_result"
    }
   ],
   "source": [
    "# 성별 월급 평균표 작성\n",
    "# 남성이 여성보다 163만원 더 많음\n",
    "sex_income = welfare.dropna(subset = ['income']) \\\n",
    "                    .groupby('sex', as_index = False) \\\n",
    "                    .agg(mean_income = ('income', 'mean'))\n",
    "sex_income"
   ]
  },
  {
   "cell_type": "code",
   "execution_count": 22,
   "id": "db6b5db8-2590-4229-aa47-d97ab11581de",
   "metadata": {},
   "outputs": [
    {
     "data": {
      "text/plain": [
       "<AxesSubplot:xlabel='sex', ylabel='mean_income'>"
      ]
     },
     "execution_count": 22,
     "metadata": {},
     "output_type": "execute_result"
    },
    {
     "data": {
      "image/png": "[encoded data removed]",
      "text/plain": [
       "<Figure size 640x480 with 1 Axes>"
      ]
     },
     "metadata": {},
     "output_type": "display_data"
    }
   ],
   "source": [
    "# 막대 그래프 생성\n",
    "sns.barplot(data = sex_income, x = 'sex', y = 'mean_income')"
   ]
  },
  {
   "cell_type": "markdown",
   "id": "6b701735-c177-40a2-be2e-b94b65210e66",
   "metadata": {},
   "source": [
    "## 09-3 나이와 월급의 관계 - 몇 살 때 월급을 가장 많이 받을까?"
   ]
  },
  {
   "cell_type": "code",
   "execution_count": 23,
   "id": "46d8a141-2892-4c17-a84c-5aae9c0c56d2",
   "metadata": {},
   "outputs": [
    {
     "data": {
      "text/plain": [
       "dtype('float64')"
      ]
     },
     "execution_count": 23,
     "metadata": {},
     "output_type": "execute_result"
    }
   ],
   "source": [
    "# 세대간 소득 격차 확인을 위해 나이와 월급의 관계 확인\n",
    "welfare['birth'].dtypes"
   ]
  },
  {
   "cell_type": "code",
   "execution_count": 24,
   "id": "af1338b1-3b31-4b6c-ad18-dab9862f7809",
   "metadata": {},
   "outputs": [
    {
     "data": {
      "text/plain": [
       "count    14418.000000\n",
       "mean      1969.280205\n",
       "std         24.402250\n",
       "min       1907.000000\n",
       "25%       1948.000000\n",
       "50%       1968.000000\n",
       "75%       1990.000000\n",
       "max       2018.000000\n",
       "Name: birth, dtype: float64"
      ]
     },
     "execution_count": 24,
     "metadata": {},
     "output_type": "execute_result"
    }
   ],
   "source": [
    "welfare['birth'].describe()"
   ]
  },
  {
   "cell_type": "code",
   "execution_count": 25,
   "id": "edca452c-23b9-47e3-a7a4-a9ac1f2b6f85",
   "metadata": {},
   "outputs": [
    {
     "data": {
      "text/plain": [
       "<AxesSubplot:xlabel='birth', ylabel='Count'>"
      ]
     },
     "execution_count": 25,
     "metadata": {},
     "output_type": "execute_result"
    },
    {
     "data": {
      "image/png": "[encoded data removed]",
      "text/plain": [
       "<Figure size 640x480 with 1 Axes>"
      ]
     },
     "metadata": {},
     "output_type": "display_data"
    }
   ],
   "source": [
    "# 히스토그램으로 분포도 확인\n",
    "sns.histplot(data = welfare, x = 'birth')"
   ]
  },
  {
   "cell_type": "code",
   "execution_count": 26,
   "id": "17b7cd89-b80c-444b-90a6-298880a620c8",
   "metadata": {},
   "outputs": [
    {
     "data": {
      "text/plain": [
       "count    14418.000000\n",
       "mean      1969.280205\n",
       "std         24.402250\n",
       "min       1907.000000\n",
       "25%       1948.000000\n",
       "50%       1968.000000\n",
       "75%       1990.000000\n",
       "max       2018.000000\n",
       "Name: birth, dtype: float64"
      ]
     },
     "execution_count": 26,
     "metadata": {},
     "output_type": "execute_result"
    }
   ],
   "source": [
    "# 이상치, 결측치 확인. 모름/무응답 - 9999. 통계량에서 확인\n",
    "welfare['birth'].describe()"
   ]
  },
  {
   "cell_type": "code",
   "execution_count": 27,
   "id": "5513347b-ce71-481c-a145-21d1ef561c71",
   "metadata": {},
   "outputs": [
    {
     "data": {
      "text/plain": [
       "0"
      ]
     },
     "execution_count": 27,
     "metadata": {},
     "output_type": "execute_result"
    }
   ],
   "source": [
    "welfare['birth'].isna().sum()"
   ]
  },
  {
   "cell_type": "code",
   "execution_count": 28,
   "id": "19b9fd4f-01e0-455f-b0f5-17a28060677a",
   "metadata": {},
   "outputs": [
    {
     "data": {
      "text/plain": [
       "0"
      ]
     },
     "execution_count": 28,
     "metadata": {},
     "output_type": "execute_result"
    }
   ],
   "source": [
    "# 이상치 발겨시 결측 처리 프로세스\n",
    "welfare['birth'] = np.where(welfare['birth'] == 9999, np.nan, welfare['birth'])\n",
    "\n",
    "# 결측치 확인\n",
    "welfare['birth'].isna().sum()"
   ]
  },
  {
   "cell_type": "code",
   "execution_count": 29,
   "id": "36d413f4-e897-4357-97a7-075abf89a9ac",
   "metadata": {},
   "outputs": [
    {
     "data": {
      "text/plain": [
       "count    14418.000000\n",
       "mean        50.719795\n",
       "std         24.402250\n",
       "min          2.000000\n",
       "25%         30.000000\n",
       "50%         52.000000\n",
       "75%         72.000000\n",
       "max        113.000000\n",
       "Name: age, dtype: float64"
      ]
     },
     "execution_count": 29,
     "metadata": {},
     "output_type": "execute_result"
    }
   ],
   "source": [
    "# 나이 변수가 없기에 태어난 연도를 기준으로 나이 변수 생성. 2019년 조사 진행. 2019-연도 +1로 나이 변수 생성\n",
    "welfare = welfare.assign(age = 2019 - welfare['birth'] + 1)\n",
    "welfare['age'].describe()"
   ]
  },
  {
   "cell_type": "code",
   "execution_count": 30,
   "id": "f5460c7d-428c-470d-b8cd-eeb1e5f752f4",
   "metadata": {},
   "outputs": [
    {
     "data": {
      "text/plain": [
       "<AxesSubplot:xlabel='age', ylabel='Count'>"
      ]
     },
     "execution_count": 30,
     "metadata": {},
     "output_type": "execute_result"
    },
    {
     "data": {
      "image/png": "[encoded data removed]",
      "text/plain": [
       "<Figure size 640x480 with 1 Axes>"
      ]
     },
     "metadata": {},
     "output_type": "display_data"
    }
   ],
   "source": [
    "# histogram 제작\n",
    "sns.histplot(data = welfare, x = 'age')"
   ]
  },
  {
   "cell_type": "code",
   "execution_count": 31,
   "id": "70f470e4-bec6-465a-ad31-4b6d09b26b59",
   "metadata": {},
   "outputs": [
    {
     "data": {
      "text/html": [
       "<div>\n",
       "<style scoped>\n",
       "    .dataframe tbody tr th:only-of-type {\n",
       "        vertical-align: middle;\n",
       "    }\n",
       "\n",
       "    .dataframe tbody tr th {\n",
       "        vertical-align: top;\n",
       "    }\n",
       "\n",
       "    .dataframe thead th {\n",
       "        text-align: right;\n",
       "    }\n",
       "</style>\n",
       "<table border=\"1\" class=\"dataframe\">\n",
       "  <thead>\n",
       "    <tr style=\"text-align: right;\">\n",
       "      <th></th>\n",
       "      <th>mean_income</th>\n",
       "    </tr>\n",
       "    <tr>\n",
       "      <th>age</th>\n",
       "      <th></th>\n",
       "    </tr>\n",
       "  </thead>\n",
       "  <tbody>\n",
       "    <tr>\n",
       "      <th>19.0</th>\n",
       "      <td>162.000000</td>\n",
       "    </tr>\n",
       "    <tr>\n",
       "      <th>20.0</th>\n",
       "      <td>121.333333</td>\n",
       "    </tr>\n",
       "    <tr>\n",
       "      <th>21.0</th>\n",
       "      <td>136.400000</td>\n",
       "    </tr>\n",
       "    <tr>\n",
       "      <th>22.0</th>\n",
       "      <td>123.666667</td>\n",
       "    </tr>\n",
       "    <tr>\n",
       "      <th>23.0</th>\n",
       "      <td>179.676471</td>\n",
       "    </tr>\n",
       "  </tbody>\n",
       "</table>\n",
       "</div>"
      ],
      "text/plain": [
       "      mean_income\n",
       "age              \n",
       "19.0   162.000000\n",
       "20.0   121.333333\n",
       "21.0   136.400000\n",
       "22.0   123.666667\n",
       "23.0   179.676471"
      ]
     },
     "execution_count": 31,
     "metadata": {},
     "output_type": "execute_result"
    }
   ],
   "source": [
    "# 나이별 월급 평균표 제작. income 결측치 제거후 age별 분리하여 income 평균 산출\n",
    "age_income = welfare.dropna(subset = ['income']) \\\n",
    "                    .groupby('age') \\\n",
    "                    .agg(mean_income = ('income', 'mean'))\n",
    "age_income.head()"
   ]
  },
  {
   "cell_type": "code",
   "execution_count": 32,
   "id": "7fc386bc-d579-4544-ae37-9597392475fe",
   "metadata": {},
   "outputs": [
    {
     "data": {
      "text/plain": [
       "<AxesSubplot:xlabel='age', ylabel='mean_income'>"
      ]
     },
     "execution_count": 32,
     "metadata": {},
     "output_type": "execute_result"
    },
    {
     "data": {
      "image/png": "[encoded data removed]",
      "text/plain": [
       "<Figure size 640x480 with 1 Axes>"
      ]
     },
     "metadata": {},
     "output_type": "display_data"
    }
   ],
   "source": [
    "# 선그래프 제작\n",
    "sns.lineplot(data = age_income, x = 'age', y = 'mean_income')"
   ]
  },
  {
   "cell_type": "markdown",
   "id": "06dc7101-c0b6-4b9c-aca8-705120891530",
   "metadata": {},
   "source": [
    "## 09-4 연령대에 따른 월급 차이 - 어떤 연령대의 월급이 가장 많을까?"
   ]
  },
  {
   "cell_type": "code",
   "execution_count": 33,
   "id": "06af23ba-8c55-4287-a9ef-719aaf988505",
   "metadata": {},
   "outputs": [
    {
     "data": {
      "text/plain": [
       "old       5955\n",
       "middle    4963\n",
       "young     3500\n",
       "Name: ageg, dtype: int64"
      ]
     },
     "execution_count": 33,
     "metadata": {},
     "output_type": "execute_result"
    }
   ],
   "source": [
    "# 연령대 변수 생성\n",
    "welfare = welfare.assign(ageg = np.where(welfare['age'] < 30, 'young',\n",
    "                                np.where(welfare['age'] <= 59, 'middle', \n",
    "                                                                 'old')))\n",
    "# 빈도 구하기\n",
    "welfare['ageg'].value_counts()"
   ]
  },
  {
   "cell_type": "code",
   "execution_count": 34,
   "id": "06c1f049-1ab7-4ed6-8295-072ce11f46ef",
   "metadata": {},
   "outputs": [
    {
     "data": {
      "text/plain": [
       "<AxesSubplot:xlabel='ageg', ylabel='count'>"
      ]
     },
     "execution_count": 34,
     "metadata": {},
     "output_type": "execute_result"
    },
    {
     "data": {
      "image/png": "[encoded data removed]",
      "text/plain": [
       "<Figure size 640x480 with 1 Axes>"
      ]
     },
     "metadata": {},
     "output_type": "display_data"
    }
   ],
   "source": [
    "# 빈도 막대 그래프 생성\n",
    "sns.countplot(data = welfare, x = 'ageg')"
   ]
  },
  {
   "cell_type": "code",
   "execution_count": 35,
   "id": "e9fb50d6-f782-4149-b96b-0db44fed2036",
   "metadata": {},
   "outputs": [
    {
     "data": {
      "text/html": [
       "<div>\n",
       "<style scoped>\n",
       "    .dataframe tbody tr th:only-of-type {\n",
       "        vertical-align: middle;\n",
       "    }\n",
       "\n",
       "    .dataframe tbody tr th {\n",
       "        vertical-align: top;\n",
       "    }\n",
       "\n",
       "    .dataframe thead th {\n",
       "        text-align: right;\n",
       "    }\n",
       "</style>\n",
       "<table border=\"1\" class=\"dataframe\">\n",
       "  <thead>\n",
       "    <tr style=\"text-align: right;\">\n",
       "      <th></th>\n",
       "      <th>ageg</th>\n",
       "      <th>mean_income</th>\n",
       "    </tr>\n",
       "  </thead>\n",
       "  <tbody>\n",
       "    <tr>\n",
       "      <th>0</th>\n",
       "      <td>middle</td>\n",
       "      <td>329.157157</td>\n",
       "    </tr>\n",
       "    <tr>\n",
       "      <th>1</th>\n",
       "      <td>old</td>\n",
       "      <td>140.129003</td>\n",
       "    </tr>\n",
       "    <tr>\n",
       "      <th>2</th>\n",
       "      <td>young</td>\n",
       "      <td>195.663424</td>\n",
       "    </tr>\n",
       "  </tbody>\n",
       "</table>\n",
       "</div>"
      ],
      "text/plain": [
       "     ageg  mean_income\n",
       "0  middle   329.157157\n",
       "1     old   140.129003\n",
       "2   young   195.663424"
      ]
     },
     "execution_count": 35,
     "metadata": {},
     "output_type": "execute_result"
    }
   ],
   "source": [
    "# 연령대별 월급 평균표 생성\n",
    "ageg_income = welfare.dropna(subset = ['income']) \\\n",
    "                    .groupby('ageg', as_index = False) \\\n",
    "                    .agg(mean_income = ('income', 'mean'))\n",
    "ageg_income"
   ]
  },
  {
   "cell_type": "code",
   "execution_count": 36,
   "id": "462240e4-0ec5-4dcf-bc3f-44a1d4af1cbb",
   "metadata": {},
   "outputs": [
    {
     "data": {
      "text/plain": [
       "<AxesSubplot:xlabel='ageg', ylabel='mean_income'>"
      ]
     },
     "execution_count": 36,
     "metadata": {},
     "output_type": "execute_result"
    },
    {
     "data": {
      "image/png": "[encoded data removed]",
      "text/plain": [
       "<Figure size 640x480 with 1 Axes>"
      ]
     },
     "metadata": {},
     "output_type": "display_data"
    }
   ],
   "source": [
    "# 막대 그래프 생성\n",
    "sns.barplot(data = ageg_income, x = 'ageg', y = 'mean_income')"
   ]
  },
  {
   "cell_type": "code",
   "execution_count": 37,
   "id": "a1a34b99-efe3-4050-b2b3-a69012845df9",
   "metadata": {},
   "outputs": [
    {
     "data": {
      "text/plain": [
       "<AxesSubplot:xlabel='ageg', ylabel='mean_income'>"
      ]
     },
     "execution_count": 37,
     "metadata": {},
     "output_type": "execute_result"
    },
    {
     "data": {
      "image/png": "[encoded data removed]",
      "text/plain": [
       "<Figure size 640x480 with 1 Axes>"
      ]
     },
     "metadata": {},
     "output_type": "display_data"
    }
   ],
   "source": [
    "# 막대 정렬 초년, 중년, 노년 순서\n",
    "sns.barplot(data = ageg_income, x = 'ageg', y ='mean_income',\n",
    "                   order = ['young', 'middle', 'old'])"
   ]
  },
  {
   "cell_type": "markdown",
   "id": "0da67206-f308-4542-ad20-c32aaf0a1ab0",
   "metadata": {},
   "source": [
    "## 09-5 연령대 및 성별 월급 차이 - 성별 월급 차이는 연령대별로 다를까?"
   ]
  },
  {
   "cell_type": "code",
   "execution_count": 38,
   "id": "dda4c161-5269-4e16-a7cb-f95300b8067e",
   "metadata": {},
   "outputs": [],
   "source": [
    "# 연령대 및 성별 월급 차이 확인 위한 평균표 만들기\n",
    "sex_income = welfare.dropna(subset = ['income']) \\\n",
    "                    .groupby(['ageg', 'sex'], as_index = False) \\\n",
    "                    .agg(mean_income = ('income', 'mean'))"
   ]
  },
  {
   "cell_type": "code",
   "execution_count": 39,
   "id": "134677da-b8cf-4d9e-93bb-7a5a033e725c",
   "metadata": {},
   "outputs": [
    {
     "data": {
      "text/html": [
       "<div>\n",
       "<style scoped>\n",
       "    .dataframe tbody tr th:only-of-type {\n",
       "        vertical-align: middle;\n",
       "    }\n",
       "\n",
       "    .dataframe tbody tr th {\n",
       "        vertical-align: top;\n",
       "    }\n",
       "\n",
       "    .dataframe thead th {\n",
       "        text-align: right;\n",
       "    }\n",
       "</style>\n",
       "<table border=\"1\" class=\"dataframe\">\n",
       "  <thead>\n",
       "    <tr style=\"text-align: right;\">\n",
       "      <th></th>\n",
       "      <th>ageg</th>\n",
       "      <th>sex</th>\n",
       "      <th>mean_income</th>\n",
       "    </tr>\n",
       "  </thead>\n",
       "  <tbody>\n",
       "    <tr>\n",
       "      <th>0</th>\n",
       "      <td>middle</td>\n",
       "      <td>female</td>\n",
       "      <td>230.481735</td>\n",
       "    </tr>\n",
       "    <tr>\n",
       "      <th>1</th>\n",
       "      <td>middle</td>\n",
       "      <td>male</td>\n",
       "      <td>409.541228</td>\n",
       "    </tr>\n",
       "    <tr>\n",
       "      <th>2</th>\n",
       "      <td>old</td>\n",
       "      <td>female</td>\n",
       "      <td>90.228896</td>\n",
       "    </tr>\n",
       "    <tr>\n",
       "      <th>3</th>\n",
       "      <td>old</td>\n",
       "      <td>male</td>\n",
       "      <td>204.570231</td>\n",
       "    </tr>\n",
       "    <tr>\n",
       "      <th>4</th>\n",
       "      <td>young</td>\n",
       "      <td>female</td>\n",
       "      <td>189.822222</td>\n",
       "    </tr>\n",
       "    <tr>\n",
       "      <th>5</th>\n",
       "      <td>young</td>\n",
       "      <td>male</td>\n",
       "      <td>204.909548</td>\n",
       "    </tr>\n",
       "  </tbody>\n",
       "</table>\n",
       "</div>"
      ],
      "text/plain": [
       "     ageg     sex  mean_income\n",
       "0  middle  female   230.481735\n",
       "1  middle    male   409.541228\n",
       "2     old  female    90.228896\n",
       "3     old    male   204.570231\n",
       "4   young  female   189.822222\n",
       "5   young    male   204.909548"
      ]
     },
     "execution_count": 39,
     "metadata": {},
     "output_type": "execute_result"
    }
   ],
   "source": [
    "sex_income"
   ]
  },
  {
   "cell_type": "code",
   "execution_count": 40,
   "id": "44c7732d-c41c-46d7-b049-551ff9f20152",
   "metadata": {},
   "outputs": [
    {
     "data": {
      "text/plain": [
       "<AxesSubplot:xlabel='ageg', ylabel='mean_income'>"
      ]
     },
     "execution_count": 40,
     "metadata": {},
     "output_type": "execute_result"
    },
    {
     "data": {
      "image/png": "[encoded data removed]",
      "text/plain": [
       "<Figure size 640x480 with 1 Axes>"
      ]
     },
     "metadata": {},
     "output_type": "display_data"
    }
   ],
   "source": [
    "# 막대 그래프 만들기\n",
    "sns.barplot(data = sex_income, x = 'ageg', y = 'mean_income', hue = 'sex', order = ['young', 'middle', 'old'])"
   ]
  },
  {
   "cell_type": "code",
   "execution_count": 41,
   "id": "4d2aa359-4053-4a53-9a8f-72bde9f0e2f3",
   "metadata": {},
   "outputs": [
    {
     "data": {
      "text/html": [
       "<div>\n",
       "<style scoped>\n",
       "    .dataframe tbody tr th:only-of-type {\n",
       "        vertical-align: middle;\n",
       "    }\n",
       "\n",
       "    .dataframe tbody tr th {\n",
       "        vertical-align: top;\n",
       "    }\n",
       "\n",
       "    .dataframe thead th {\n",
       "        text-align: right;\n",
       "    }\n",
       "</style>\n",
       "<table border=\"1\" class=\"dataframe\">\n",
       "  <thead>\n",
       "    <tr style=\"text-align: right;\">\n",
       "      <th></th>\n",
       "      <th>age</th>\n",
       "      <th>sex</th>\n",
       "      <th>mean_income</th>\n",
       "    </tr>\n",
       "  </thead>\n",
       "  <tbody>\n",
       "    <tr>\n",
       "      <th>0</th>\n",
       "      <td>19.0</td>\n",
       "      <td>male</td>\n",
       "      <td>162.000000</td>\n",
       "    </tr>\n",
       "    <tr>\n",
       "      <th>1</th>\n",
       "      <td>20.0</td>\n",
       "      <td>female</td>\n",
       "      <td>87.666667</td>\n",
       "    </tr>\n",
       "    <tr>\n",
       "      <th>2</th>\n",
       "      <td>20.0</td>\n",
       "      <td>male</td>\n",
       "      <td>155.000000</td>\n",
       "    </tr>\n",
       "    <tr>\n",
       "      <th>3</th>\n",
       "      <td>21.0</td>\n",
       "      <td>female</td>\n",
       "      <td>124.000000</td>\n",
       "    </tr>\n",
       "    <tr>\n",
       "      <th>4</th>\n",
       "      <td>21.0</td>\n",
       "      <td>male</td>\n",
       "      <td>186.000000</td>\n",
       "    </tr>\n",
       "  </tbody>\n",
       "</table>\n",
       "</div>"
      ],
      "text/plain": [
       "    age     sex  mean_income\n",
       "0  19.0    male   162.000000\n",
       "1  20.0  female    87.666667\n",
       "2  20.0    male   155.000000\n",
       "3  21.0  female   124.000000\n",
       "4  21.0    male   186.000000"
      ]
     },
     "execution_count": 41,
     "metadata": {},
     "output_type": "execute_result"
    }
   ],
   "source": [
    "# 나이 및 성별 월급 평균표 만들기\n",
    "sex_age = welfare.dropna(subset = ['income']) \\\n",
    "                 .groupby(['age', 'sex'], as_index = False) \\\n",
    "                 .agg(mean_income = ('income', 'mean'))\n",
    "sex_age.head()"
   ]
  },
  {
   "cell_type": "code",
   "execution_count": 42,
   "id": "635abf12-ddc6-4c47-a656-57c2c85de3a9",
   "metadata": {},
   "outputs": [
    {
     "data": {
      "text/plain": [
       "<AxesSubplot:xlabel='age', ylabel='mean_income'>"
      ]
     },
     "execution_count": 42,
     "metadata": {},
     "output_type": "execute_result"
    },
    {
     "data": {
      "image/png": "[encoded data removed]",
      "text/plain": [
       "<Figure size 640x480 with 1 Axes>"
      ]
     },
     "metadata": {},
     "output_type": "display_data"
    }
   ],
   "source": [
    "# 선 그래프 만들기\n",
    "sns.lineplot(data = sex_age, x = 'age', y = 'mean_income', hue = 'sex')"
   ]
  },
  {
   "cell_type": "markdown",
   "id": "23f3eba6-50c3-46b3-a4db-99216eb321fe",
   "metadata": {},
   "source": [
    "## 09-6 직업별 월급 차이 - 어떤 직업이 월급을 가장 많이 받을까?|"
   ]
  },
  {
   "cell_type": "code",
   "execution_count": 44,
   "id": "5745cc4e-4384-4724-bb79-6a964a85fa39",
   "metadata": {},
   "outputs": [
    {
     "data": {
      "text/plain": [
       "dtype('float64')"
      ]
     },
     "execution_count": 44,
     "metadata": {},
     "output_type": "execute_result"
    }
   ],
   "source": [
    "# 직업 변수 검토\n",
    "welfare['code_job'].dtypes"
   ]
  },
  {
   "cell_type": "code",
   "execution_count": 45,
   "id": "0cdfa8bf-0c58-4d64-937c-45e657f05581",
   "metadata": {},
   "outputs": [
    {
     "data": {
      "text/plain": [
       "611.0    962\n",
       "941.0    391\n",
       "521.0    354\n",
       "312.0    275\n",
       "873.0    236\n",
       "        ... \n",
       "112.0      2\n",
       "784.0      2\n",
       "423.0      1\n",
       "861.0      1\n",
       "872.0      1\n",
       "Name: code_job, Length: 150, dtype: int64"
      ]
     },
     "execution_count": 45,
     "metadata": {},
     "output_type": "execute_result"
    }
   ],
   "source": [
    "welfare['code_job'].value_counts()"
   ]
  },
  {
   "cell_type": "code",
   "execution_count": 46,
   "id": "1ce46260-c2a7-4579-a744-f311a3c29204",
   "metadata": {},
   "outputs": [
    {
     "data": {
      "text/html": [
       "<div>\n",
       "<style scoped>\n",
       "    .dataframe tbody tr th:only-of-type {\n",
       "        vertical-align: middle;\n",
       "    }\n",
       "\n",
       "    .dataframe tbody tr th {\n",
       "        vertical-align: top;\n",
       "    }\n",
       "\n",
       "    .dataframe thead th {\n",
       "        text-align: right;\n",
       "    }\n",
       "</style>\n",
       "<table border=\"1\" class=\"dataframe\">\n",
       "  <thead>\n",
       "    <tr style=\"text-align: right;\">\n",
       "      <th></th>\n",
       "      <th>code_job</th>\n",
       "      <th>job</th>\n",
       "    </tr>\n",
       "  </thead>\n",
       "  <tbody>\n",
       "    <tr>\n",
       "      <th>0</th>\n",
       "      <td>111</td>\n",
       "      <td>의회 의원∙고위 공무원 및 공공단체 임원</td>\n",
       "    </tr>\n",
       "    <tr>\n",
       "      <th>1</th>\n",
       "      <td>112</td>\n",
       "      <td>기업 고위 임원</td>\n",
       "    </tr>\n",
       "    <tr>\n",
       "      <th>2</th>\n",
       "      <td>121</td>\n",
       "      <td>행정 및 경영 지원 관리자</td>\n",
       "    </tr>\n",
       "    <tr>\n",
       "      <th>3</th>\n",
       "      <td>122</td>\n",
       "      <td>마케팅 및 광고∙홍보 관리자</td>\n",
       "    </tr>\n",
       "    <tr>\n",
       "      <th>4</th>\n",
       "      <td>131</td>\n",
       "      <td>연구∙교육 및 법률 관련 관리자</td>\n",
       "    </tr>\n",
       "  </tbody>\n",
       "</table>\n",
       "</div>"
      ],
      "text/plain": [
       "   code_job                     job\n",
       "0       111  의회 의원∙고위 공무원 및 공공단체 임원\n",
       "1       112                기업 고위 임원\n",
       "2       121          행정 및 경영 지원 관리자\n",
       "3       122         마케팅 및 광고∙홍보 관리자\n",
       "4       131       연구∙교육 및 법률 관련 관리자"
      ]
     },
     "execution_count": 46,
     "metadata": {},
     "output_type": "execute_result"
    }
   ],
   "source": [
    "# 직종코드별 세부 분류 확인을 위해 직업 코드북 확인\n",
    "list_job = pd.read_excel('Koweps_Codebook_2019.xlsx', sheet_name = '직종코드')\n",
    "list_job.head()"
   ]
  },
  {
   "cell_type": "code",
   "execution_count": 47,
   "id": "eb8d41ed-90b2-4760-a74c-96c68576b254",
   "metadata": {},
   "outputs": [
    {
     "data": {
      "text/plain": [
       "(156, 2)"
      ]
     },
     "execution_count": 47,
     "metadata": {},
     "output_type": "execute_result"
    }
   ],
   "source": [
    "list_job.shape   #행, 열 개수 출력"
   ]
  },
  {
   "cell_type": "code",
   "execution_count": 48,
   "id": "0909f6b5-a6a8-4865-ab37-e4dc88f2d976",
   "metadata": {},
   "outputs": [],
   "source": [
    "# 직종코드와 세부 분류명 병합\n",
    "welfare = welfare.merge(list_job, how = 'left', on = 'code_job')"
   ]
  },
  {
   "cell_type": "code",
   "execution_count": 49,
   "id": "6a989619-4538-410a-84bc-c96ab6c1ad28",
   "metadata": {},
   "outputs": [
    {
     "data": {
      "text/html": [
       "<div>\n",
       "<style scoped>\n",
       "    .dataframe tbody tr th:only-of-type {\n",
       "        vertical-align: middle;\n",
       "    }\n",
       "\n",
       "    .dataframe tbody tr th {\n",
       "        vertical-align: top;\n",
       "    }\n",
       "\n",
       "    .dataframe thead th {\n",
       "        text-align: right;\n",
       "    }\n",
       "</style>\n",
       "<table border=\"1\" class=\"dataframe\">\n",
       "  <thead>\n",
       "    <tr style=\"text-align: right;\">\n",
       "      <th></th>\n",
       "      <th>code_job</th>\n",
       "      <th>job</th>\n",
       "    </tr>\n",
       "  </thead>\n",
       "  <tbody>\n",
       "    <tr>\n",
       "      <th>2</th>\n",
       "      <td>762.0</td>\n",
       "      <td>전기공</td>\n",
       "    </tr>\n",
       "    <tr>\n",
       "      <th>3</th>\n",
       "      <td>855.0</td>\n",
       "      <td>금속기계 부품 조립원</td>\n",
       "    </tr>\n",
       "    <tr>\n",
       "      <th>7</th>\n",
       "      <td>941.0</td>\n",
       "      <td>청소원 및 환경미화원</td>\n",
       "    </tr>\n",
       "    <tr>\n",
       "      <th>8</th>\n",
       "      <td>999.0</td>\n",
       "      <td>기타 서비스 관련 단순 종사자</td>\n",
       "    </tr>\n",
       "    <tr>\n",
       "      <th>14</th>\n",
       "      <td>312.0</td>\n",
       "      <td>경영 관련 사무원</td>\n",
       "    </tr>\n",
       "  </tbody>\n",
       "</table>\n",
       "</div>"
      ],
      "text/plain": [
       "    code_job               job\n",
       "2      762.0               전기공\n",
       "3      855.0       금속기계 부품 조립원\n",
       "7      941.0       청소원 및 환경미화원\n",
       "8      999.0  기타 서비스 관련 단순 종사자\n",
       "14     312.0         경영 관련 사무원"
      ]
     },
     "execution_count": 49,
     "metadata": {},
     "output_type": "execute_result"
    }
   ],
   "source": [
    "# 결합 상태 확인. 결측치 제외\n",
    "welfare.dropna(subset = ['code_job'])[['code_job', 'job']].head()"
   ]
  },
  {
   "cell_type": "code",
   "execution_count": 50,
   "id": "763949e1-f9d6-407b-9934-d62b10a2a833",
   "metadata": {},
   "outputs": [
    {
     "data": {
      "text/html": [
       "<div>\n",
       "<style scoped>\n",
       "    .dataframe tbody tr th:only-of-type {\n",
       "        vertical-align: middle;\n",
       "    }\n",
       "\n",
       "    .dataframe tbody tr th {\n",
       "        vertical-align: top;\n",
       "    }\n",
       "\n",
       "    .dataframe thead th {\n",
       "        text-align: right;\n",
       "    }\n",
       "</style>\n",
       "<table border=\"1\" class=\"dataframe\">\n",
       "  <thead>\n",
       "    <tr style=\"text-align: right;\">\n",
       "      <th></th>\n",
       "      <th>job</th>\n",
       "      <th>mean_income</th>\n",
       "    </tr>\n",
       "  </thead>\n",
       "  <tbody>\n",
       "    <tr>\n",
       "      <th>0</th>\n",
       "      <td>가사 및 육아 도우미</td>\n",
       "      <td>92.455882</td>\n",
       "    </tr>\n",
       "    <tr>\n",
       "      <th>1</th>\n",
       "      <td>간호사</td>\n",
       "      <td>265.219178</td>\n",
       "    </tr>\n",
       "    <tr>\n",
       "      <th>2</th>\n",
       "      <td>감정∙기술영업및중개관련종사자</td>\n",
       "      <td>391.000000</td>\n",
       "    </tr>\n",
       "    <tr>\n",
       "      <th>3</th>\n",
       "      <td>건물 관리원 및 검표원</td>\n",
       "      <td>168.375000</td>\n",
       "    </tr>\n",
       "    <tr>\n",
       "      <th>4</th>\n",
       "      <td>건설 및 광업 단순 종사자</td>\n",
       "      <td>261.975000</td>\n",
       "    </tr>\n",
       "  </tbody>\n",
       "</table>\n",
       "</div>"
      ],
      "text/plain": [
       "                job  mean_income\n",
       "0       가사 및 육아 도우미    92.455882\n",
       "1               간호사   265.219178\n",
       "2  감정∙기술영업및중개관련종사자    391.000000\n",
       "3      건물 관리원 및 검표원   168.375000\n",
       "4    건설 및 광업 단순 종사자   261.975000"
      ]
     },
     "execution_count": 50,
     "metadata": {},
     "output_type": "execute_result"
    }
   ],
   "source": [
    "# 직업별 월급 평균표 만들기\n",
    "job_income = welfare.dropna(subset = ['job', 'income']) \\\n",
    "                    .groupby('job', as_index = False) \\\n",
    "                    .agg(mean_income = ('income', 'mean'))\n",
    "job_income.head()"
   ]
  },
  {
   "cell_type": "code",
   "execution_count": 51,
   "id": "9559c7cb-d29c-4218-8bf3-cb8ea1ddceb6",
   "metadata": {},
   "outputs": [
    {
     "data": {
      "text/html": [
       "<div>\n",
       "<style scoped>\n",
       "    .dataframe tbody tr th:only-of-type {\n",
       "        vertical-align: middle;\n",
       "    }\n",
       "\n",
       "    .dataframe tbody tr th {\n",
       "        vertical-align: top;\n",
       "    }\n",
       "\n",
       "    .dataframe thead th {\n",
       "        text-align: right;\n",
       "    }\n",
       "</style>\n",
       "<table border=\"1\" class=\"dataframe\">\n",
       "  <thead>\n",
       "    <tr style=\"text-align: right;\">\n",
       "      <th></th>\n",
       "      <th>job</th>\n",
       "      <th>mean_income</th>\n",
       "    </tr>\n",
       "  </thead>\n",
       "  <tbody>\n",
       "    <tr>\n",
       "      <th>98</th>\n",
       "      <td>의료 진료 전문가</td>\n",
       "      <td>781.000000</td>\n",
       "    </tr>\n",
       "    <tr>\n",
       "      <th>60</th>\n",
       "      <td>법률 전문가</td>\n",
       "      <td>776.333333</td>\n",
       "    </tr>\n",
       "    <tr>\n",
       "      <th>140</th>\n",
       "      <td>행정 및 경영 지원 관리자</td>\n",
       "      <td>771.833333</td>\n",
       "    </tr>\n",
       "    <tr>\n",
       "      <th>63</th>\n",
       "      <td>보험 및 금융 관리자</td>\n",
       "      <td>734.750000</td>\n",
       "    </tr>\n",
       "    <tr>\n",
       "      <th>110</th>\n",
       "      <td>재활용 처리 및 소각로 조작원</td>\n",
       "      <td>688.000000</td>\n",
       "    </tr>\n",
       "    <tr>\n",
       "      <th>131</th>\n",
       "      <td>컴퓨터 하드웨어 및 통신공학 전문가</td>\n",
       "      <td>679.444444</td>\n",
       "    </tr>\n",
       "    <tr>\n",
       "      <th>24</th>\n",
       "      <td>기계∙로봇공학 기술자 및 시험원</td>\n",
       "      <td>669.166667</td>\n",
       "    </tr>\n",
       "    <tr>\n",
       "      <th>6</th>\n",
       "      <td>건설∙전기 및 생산 관련 관리자</td>\n",
       "      <td>603.083333</td>\n",
       "    </tr>\n",
       "    <tr>\n",
       "      <th>120</th>\n",
       "      <td>제관원 및 판금원</td>\n",
       "      <td>597.000000</td>\n",
       "    </tr>\n",
       "    <tr>\n",
       "      <th>100</th>\n",
       "      <td>의회 의원∙고위 공무원 및 공공단체 임원</td>\n",
       "      <td>580.500000</td>\n",
       "    </tr>\n",
       "  </tbody>\n",
       "</table>\n",
       "</div>"
      ],
      "text/plain": [
       "                        job  mean_income\n",
       "98                의료 진료 전문가   781.000000\n",
       "60                   법률 전문가   776.333333\n",
       "140          행정 및 경영 지원 관리자   771.833333\n",
       "63              보험 및 금융 관리자   734.750000\n",
       "110        재활용 처리 및 소각로 조작원   688.000000\n",
       "131     컴퓨터 하드웨어 및 통신공학 전문가   679.444444\n",
       "24        기계∙로봇공학 기술자 및 시험원   669.166667\n",
       "6         건설∙전기 및 생산 관련 관리자   603.083333\n",
       "120               제관원 및 판금원   597.000000\n",
       "100  의회 의원∙고위 공무원 및 공공단체 임원   580.500000"
      ]
     },
     "execution_count": 51,
     "metadata": {},
     "output_type": "execute_result"
    }
   ],
   "source": [
    "# 상위 10위 추출\n",
    "top10 = job_income.sort_values('mean_income', ascending = False).head(10)\n",
    "top10"
   ]
  },
  {
   "cell_type": "code",
   "execution_count": 52,
   "id": "6e4166a4-ec84-4964-bae4-7e151237f7e6",
   "metadata": {},
   "outputs": [],
   "source": [
    "# 그래프 생성위해 폰트 설정\n",
    "import matplotlib.pyplot as plt\n",
    "plt.rcParams.update({'font.family' : 'Malgun Gothic'})"
   ]
  },
  {
   "cell_type": "code",
   "execution_count": 53,
   "id": "28b26315-2b5f-41ff-b61a-d1e614659140",
   "metadata": {},
   "outputs": [
    {
     "data": {
      "text/plain": [
       "<AxesSubplot:xlabel='mean_income', ylabel='job'>"
      ]
     },
     "execution_count": 53,
     "metadata": {},
     "output_type": "execute_result"
    },
    {
     "data": {
      "image/png": "[encoded data removed]",
      "text/plain": [
       "<Figure size 640x480 with 1 Axes>"
      ]
     },
     "metadata": {},
     "output_type": "display_data"
    }
   ],
   "source": [
    "# x축 텍스트 길이가 너무 길어 x,y축 전환하여 전환하여 그래프 생성\n",
    "sns.barplot(data = top10, y = 'job', x = 'mean_income')"
   ]
  },
  {
   "cell_type": "code",
   "execution_count": 54,
   "id": "623b2833-150a-49a4-9955-fc4265a11c12",
   "metadata": {},
   "outputs": [
    {
     "data": {
      "text/html": [
       "<div>\n",
       "<style scoped>\n",
       "    .dataframe tbody tr th:only-of-type {\n",
       "        vertical-align: middle;\n",
       "    }\n",
       "\n",
       "    .dataframe tbody tr th {\n",
       "        vertical-align: top;\n",
       "    }\n",
       "\n",
       "    .dataframe thead th {\n",
       "        text-align: right;\n",
       "    }\n",
       "</style>\n",
       "<table border=\"1\" class=\"dataframe\">\n",
       "  <thead>\n",
       "    <tr style=\"text-align: right;\">\n",
       "      <th></th>\n",
       "      <th>job</th>\n",
       "      <th>mean_income</th>\n",
       "    </tr>\n",
       "  </thead>\n",
       "  <tbody>\n",
       "    <tr>\n",
       "      <th>33</th>\n",
       "      <td>기타 돌봄∙보건 및 개인 생활 서비스 종사자</td>\n",
       "      <td>73.964286</td>\n",
       "    </tr>\n",
       "    <tr>\n",
       "      <th>34</th>\n",
       "      <td>기타 서비스 관련 단순 종사자</td>\n",
       "      <td>77.789474</td>\n",
       "    </tr>\n",
       "    <tr>\n",
       "      <th>128</th>\n",
       "      <td>청소원 및 환경미화원</td>\n",
       "      <td>88.461756</td>\n",
       "    </tr>\n",
       "    <tr>\n",
       "      <th>0</th>\n",
       "      <td>가사 및 육아 도우미</td>\n",
       "      <td>92.455882</td>\n",
       "    </tr>\n",
       "    <tr>\n",
       "      <th>43</th>\n",
       "      <td>돌봄 및 보건 서비스 종사자</td>\n",
       "      <td>117.162338</td>\n",
       "    </tr>\n",
       "    <tr>\n",
       "      <th>97</th>\n",
       "      <td>음식 관련 단순 종사자</td>\n",
       "      <td>118.187500</td>\n",
       "    </tr>\n",
       "    <tr>\n",
       "      <th>39</th>\n",
       "      <td>농림∙어업 관련 단순 종사자</td>\n",
       "      <td>122.625000</td>\n",
       "    </tr>\n",
       "    <tr>\n",
       "      <th>139</th>\n",
       "      <td>학예사∙사서 및 기록물 관리사</td>\n",
       "      <td>140.000000</td>\n",
       "    </tr>\n",
       "    <tr>\n",
       "      <th>126</th>\n",
       "      <td>채굴 및 토목 관련 기능 종사자</td>\n",
       "      <td>140.000000</td>\n",
       "    </tr>\n",
       "    <tr>\n",
       "      <th>135</th>\n",
       "      <td>판매 관련 단순 종사자</td>\n",
       "      <td>140.909091</td>\n",
       "    </tr>\n",
       "  </tbody>\n",
       "</table>\n",
       "</div>"
      ],
      "text/plain": [
       "                          job  mean_income\n",
       "33   기타 돌봄∙보건 및 개인 생활 서비스 종사자    73.964286\n",
       "34           기타 서비스 관련 단순 종사자    77.789474\n",
       "128               청소원 및 환경미화원    88.461756\n",
       "0                 가사 및 육아 도우미    92.455882\n",
       "43            돌봄 및 보건 서비스 종사자   117.162338\n",
       "97               음식 관련 단순 종사자   118.187500\n",
       "39            농림∙어업 관련 단순 종사자   122.625000\n",
       "139          학예사∙사서 및 기록물 관리사   140.000000\n",
       "126         채굴 및 토목 관련 기능 종사자   140.000000\n",
       "135              판매 관련 단순 종사자   140.909091"
      ]
     },
     "execution_count": 54,
     "metadata": {},
     "output_type": "execute_result"
    }
   ],
   "source": [
    "# 하위 10위 추출\n",
    "bottom10 = job_income.sort_values('mean_income').head(10)\n",
    "bottom10"
   ]
  },
  {
   "cell_type": "code",
   "execution_count": 55,
   "id": "22a11d71-6f43-4dce-971e-0c904c5e5198",
   "metadata": {},
   "outputs": [
    {
     "data": {
      "text/plain": [
       "[(0.0, 800.0)]"
      ]
     },
     "execution_count": 55,
     "metadata": {},
     "output_type": "execute_result"
    },
    {
     "data": {
      "image/png": "[encoded data removed]",
      "text/plain": [
       "<Figure size 640x480 with 1 Axes>"
      ]
     },
     "metadata": {},
     "output_type": "display_data"
    }
   ],
   "source": [
    "# 막대 그래프 만들기. 상위 10위 그래프와 비교 위해 x축 동일하게 0 ~ 800으로 설정\n",
    "sns.barplot(data = bottom10, y = 'job', x = 'mean_income') \\\n",
    "    .set(xlim = (0,800))"
   ]
  },
  {
   "cell_type": "markdown",
   "id": "ced06f7b-c446-481c-a629-4bb07a330420",
   "metadata": {},
   "source": [
    "## 09-7 성별 직업 빈도 - 성별로 어떤 직업이 가장 많을까?"
   ]
  },
  {
   "cell_type": "code",
   "execution_count": 56,
   "id": "f173a034-d85e-422f-a597-67ff3e789ed7",
   "metadata": {},
   "outputs": [],
   "source": [
    "# 성별 직업 빈도표 "
   ]
  },
  {
   "cell_type": "code",
   "execution_count": 57,
   "id": "bf066120-d52f-4aef-8377-bc4d322d9d40",
   "metadata": {},
   "outputs": [
    {
     "data": {
      "text/html": [
       "<div>\n",
       "<style scoped>\n",
       "    .dataframe tbody tr th:only-of-type {\n",
       "        vertical-align: middle;\n",
       "    }\n",
       "\n",
       "    .dataframe tbody tr th {\n",
       "        vertical-align: top;\n",
       "    }\n",
       "\n",
       "    .dataframe thead th {\n",
       "        text-align: right;\n",
       "    }\n",
       "</style>\n",
       "<table border=\"1\" class=\"dataframe\">\n",
       "  <thead>\n",
       "    <tr style=\"text-align: right;\">\n",
       "      <th></th>\n",
       "      <th>job</th>\n",
       "      <th>n</th>\n",
       "    </tr>\n",
       "  </thead>\n",
       "  <tbody>\n",
       "    <tr>\n",
       "      <th>107</th>\n",
       "      <td>작물 재배 종사자</td>\n",
       "      <td>486</td>\n",
       "    </tr>\n",
       "    <tr>\n",
       "      <th>104</th>\n",
       "      <td>자동차 운전원</td>\n",
       "      <td>230</td>\n",
       "    </tr>\n",
       "    <tr>\n",
       "      <th>11</th>\n",
       "      <td>경영 관련 사무원</td>\n",
       "      <td>216</td>\n",
       "    </tr>\n",
       "    <tr>\n",
       "      <th>46</th>\n",
       "      <td>매장 판매 종사자</td>\n",
       "      <td>142</td>\n",
       "    </tr>\n",
       "    <tr>\n",
       "      <th>89</th>\n",
       "      <td>영업 종사자</td>\n",
       "      <td>113</td>\n",
       "    </tr>\n",
       "    <tr>\n",
       "      <th>127</th>\n",
       "      <td>청소원 및 환경미화원</td>\n",
       "      <td>109</td>\n",
       "    </tr>\n",
       "    <tr>\n",
       "      <th>4</th>\n",
       "      <td>건설 및 광업 단순 종사자</td>\n",
       "      <td>96</td>\n",
       "    </tr>\n",
       "    <tr>\n",
       "      <th>120</th>\n",
       "      <td>제조 관련 단순 종사자</td>\n",
       "      <td>80</td>\n",
       "    </tr>\n",
       "    <tr>\n",
       "      <th>3</th>\n",
       "      <td>건물 관리원 및 검표원</td>\n",
       "      <td>79</td>\n",
       "    </tr>\n",
       "    <tr>\n",
       "      <th>141</th>\n",
       "      <td>행정 사무원</td>\n",
       "      <td>74</td>\n",
       "    </tr>\n",
       "  </tbody>\n",
       "</table>\n",
       "</div>"
      ],
      "text/plain": [
       "                job    n\n",
       "107       작물 재배 종사자  486\n",
       "104         자동차 운전원  230\n",
       "11        경영 관련 사무원  216\n",
       "46        매장 판매 종사자  142\n",
       "89           영업 종사자  113\n",
       "127     청소원 및 환경미화원  109\n",
       "4    건설 및 광업 단순 종사자   96\n",
       "120    제조 관련 단순 종사자   80\n",
       "3      건물 관리원 및 검표원   79\n",
       "141          행정 사무원   74"
      ]
     },
     "execution_count": 57,
     "metadata": {},
     "output_type": "execute_result"
    }
   ],
   "source": [
    "# 남성 직업 빈도 상위 10개 추출\n",
    "# job 결측치 제거\n",
    "# male 추출\n",
    "# job별 분리\n",
    "# job 빈도 구하기\n",
    "# 내림차순 정렬\n",
    "# 상위 10행 추출\n",
    "\n",
    "job_male = welfare.dropna(subset = ['job']) \\\n",
    "                  .query('sex == \"male\"') \\\n",
    "                  .groupby('job', as_index = False) \\\n",
    "                  .agg(n = ('job', 'count')) \\\n",
    "                  .sort_values('n', ascending = False) \\\n",
    "                  .head(10)\n",
    "job_male"
   ]
  },
  {
   "cell_type": "code",
   "execution_count": 58,
   "id": "1c5c8f44-f079-4d99-a061-e7302d3f5beb",
   "metadata": {},
   "outputs": [
    {
     "data": {
      "text/html": [
       "<div>\n",
       "<style scoped>\n",
       "    .dataframe tbody tr th:only-of-type {\n",
       "        vertical-align: middle;\n",
       "    }\n",
       "\n",
       "    .dataframe tbody tr th {\n",
       "        vertical-align: top;\n",
       "    }\n",
       "\n",
       "    .dataframe thead th {\n",
       "        text-align: right;\n",
       "    }\n",
       "</style>\n",
       "<table border=\"1\" class=\"dataframe\">\n",
       "  <thead>\n",
       "    <tr style=\"text-align: right;\">\n",
       "      <th></th>\n",
       "      <th>job</th>\n",
       "      <th>n</th>\n",
       "    </tr>\n",
       "  </thead>\n",
       "  <tbody>\n",
       "    <tr>\n",
       "      <th>83</th>\n",
       "      <td>작물 재배 종사자</td>\n",
       "      <td>476</td>\n",
       "    </tr>\n",
       "    <tr>\n",
       "      <th>91</th>\n",
       "      <td>청소원 및 환경미화원</td>\n",
       "      <td>282</td>\n",
       "    </tr>\n",
       "    <tr>\n",
       "      <th>33</th>\n",
       "      <td>매장 판매 종사자</td>\n",
       "      <td>212</td>\n",
       "    </tr>\n",
       "    <tr>\n",
       "      <th>106</th>\n",
       "      <td>회계 및 경리 사무원</td>\n",
       "      <td>163</td>\n",
       "    </tr>\n",
       "    <tr>\n",
       "      <th>31</th>\n",
       "      <td>돌봄 및 보건 서비스 종사자</td>\n",
       "      <td>155</td>\n",
       "    </tr>\n",
       "    <tr>\n",
       "      <th>87</th>\n",
       "      <td>제조 관련 단순 종사자</td>\n",
       "      <td>148</td>\n",
       "    </tr>\n",
       "    <tr>\n",
       "      <th>73</th>\n",
       "      <td>음식 관련 단순 종사자</td>\n",
       "      <td>126</td>\n",
       "    </tr>\n",
       "    <tr>\n",
       "      <th>58</th>\n",
       "      <td>식음료 서비스 종사자</td>\n",
       "      <td>117</td>\n",
       "    </tr>\n",
       "    <tr>\n",
       "      <th>88</th>\n",
       "      <td>조리사</td>\n",
       "      <td>114</td>\n",
       "    </tr>\n",
       "    <tr>\n",
       "      <th>24</th>\n",
       "      <td>기타 서비스 관련 단순 종사자</td>\n",
       "      <td>97</td>\n",
       "    </tr>\n",
       "  </tbody>\n",
       "</table>\n",
       "</div>"
      ],
      "text/plain": [
       "                  job    n\n",
       "83          작물 재배 종사자  476\n",
       "91        청소원 및 환경미화원  282\n",
       "33          매장 판매 종사자  212\n",
       "106       회계 및 경리 사무원  163\n",
       "31    돌봄 및 보건 서비스 종사자  155\n",
       "87       제조 관련 단순 종사자  148\n",
       "73       음식 관련 단순 종사자  126\n",
       "58        식음료 서비스 종사자  117\n",
       "88                조리사  114\n",
       "24   기타 서비스 관련 단순 종사자   97"
      ]
     },
     "execution_count": 58,
     "metadata": {},
     "output_type": "execute_result"
    }
   ],
   "source": [
    "# 여성 직업 빈도 상위 10개 추출\n",
    "# job 결측치 제거\n",
    "# female 추출\n",
    "# job별 분리\n",
    "# job 빈도 구하기\n",
    "# 내림차순 정렬\n",
    "# 상위 10행 추출\n",
    "\n",
    "job_female = welfare.dropna(subset = ['job']) \\\n",
    "                  .query('sex == \"female\"') \\\n",
    "                  .groupby('job', as_index = False) \\\n",
    "                  .agg(n = ('job', 'count')) \\\n",
    "                  .sort_values('n', ascending = False) \\\n",
    "                  .head(10)\n",
    "job_female"
   ]
  },
  {
   "cell_type": "code",
   "execution_count": 59,
   "id": "2d92827d-f722-4981-83aa-17db4855cf11",
   "metadata": {},
   "outputs": [
    {
     "data": {
      "text/plain": [
       "[(0.0, 500.0)]"
      ]
     },
     "execution_count": 59,
     "metadata": {},
     "output_type": "execute_result"
    },
    {
     "data": {
      "image/png": "[encoded data removed]",
      "text/plain": [
       "<Figure size 640x480 with 1 Axes>"
      ]
     },
     "metadata": {},
     "output_type": "display_data"
    }
   ],
   "source": [
    "# 남성 직업 빈도 막대 그래프 만들기\n",
    "sns.barplot(data = job_male, y = 'job', x = 'n').set(xlim = (0,500))"
   ]
  },
  {
   "cell_type": "code",
   "execution_count": 61,
   "id": "dbe86c56-4085-4394-8751-0dd2ea30179c",
   "metadata": {},
   "outputs": [
    {
     "data": {
      "text/plain": [
       "[(0.0, 500.0)]"
      ]
     },
     "execution_count": 61,
     "metadata": {},
     "output_type": "execute_result"
    },
    {
     "data": {
      "image/png": "[encoded data removed]",
      "text/plain": [
       "<Figure size 640x480 with 1 Axes>"
      ]
     },
     "metadata": {},
     "output_type": "display_data"
    }
   ],
   "source": [
    "# 여성 직업 빈도 그래프 만들기\n",
    "sns.barplot(data = job_female, y = 'job', x= 'n').set(xlim = (0,500))"
   ]
  },
  {
   "cell_type": "markdown",
   "id": "f6283ce2-f53b-41bc-8a98-b0f0753221a8",
   "metadata": {},
   "source": [
    "## 09-8 종교 유무에 따른 이혼율 - 종교가 있으면 이혼을 덜 할까?"
   ]
  },
  {
   "cell_type": "markdown",
   "id": "03be37a6-239c-422a-aa28-daa47728b519",
   "metadata": {},
   "source": [
    "### 종교 변수 검토 및 전처리"
   ]
  },
  {
   "cell_type": "code",
   "execution_count": 63,
   "id": "6c96bee2-2573-4352-b708-69e10dfda8c9",
   "metadata": {},
   "outputs": [
    {
     "data": {
      "text/plain": [
       "dtype('float64')"
      ]
     },
     "execution_count": 63,
     "metadata": {},
     "output_type": "execute_result"
    }
   ],
   "source": [
    "# 변수 검토\n",
    "welfare['religion'].dtypes"
   ]
  },
  {
   "cell_type": "code",
   "execution_count": 64,
   "id": "ee3e2177-7037-4639-8dcd-92190f8e4ecd",
   "metadata": {},
   "outputs": [
    {
     "data": {
      "text/plain": [
       "2.0    7815\n",
       "1.0    6603\n",
       "Name: religion, dtype: int64"
      ]
     },
     "execution_count": 64,
     "metadata": {},
     "output_type": "execute_result"
    }
   ],
   "source": [
    "# 빈도 구하기\n",
    "welfare['religion'].value_counts()"
   ]
  },
  {
   "cell_type": "code",
   "execution_count": 65,
   "id": "c2a8e0b5-bad9-4ddb-9003-832aceec08af",
   "metadata": {},
   "outputs": [
    {
     "data": {
      "text/plain": [
       "no     7815\n",
       "yes    6603\n",
       "Name: religion, dtype: int64"
      ]
     },
     "execution_count": 65,
     "metadata": {},
     "output_type": "execute_result"
    }
   ],
   "source": [
    "# 전처리. 앞의 결과를 보면 1,2외에 다른값이 없으므로 이상치 & 결측치 처리 작업 제외\n",
    "# 코드북 종교 변수 항목 참고해 종교 유무 문자 부여\n",
    "welfare['religion'] = np.where(welfare['religion'] == 1, 'yes', 'no')\n",
    "\n",
    "# 빈도 구하기\n",
    "welfare['religion'].value_counts()"
   ]
  },
  {
   "cell_type": "code",
   "execution_count": 67,
   "id": "ae02a440-d5bf-4264-874f-c2a0443781e5",
   "metadata": {},
   "outputs": [
    {
     "data": {
      "text/plain": [
       "<AxesSubplot:xlabel='religion', ylabel='count'>"
      ]
     },
     "execution_count": 67,
     "metadata": {},
     "output_type": "execute_result"
    },
    {
     "data": {
      "image/png": "[encoded data removed]",
      "text/plain": [
       "<Figure size 640x480 with 1 Axes>"
      ]
     },
     "metadata": {},
     "output_type": "display_data"
    }
   ],
   "source": [
    "# 빈도 그래프 생성\n",
    "sns.countplot(data = welfare, x = 'religion')"
   ]
  },
  {
   "cell_type": "markdown",
   "id": "517b26e2-eecd-4a66-aacc-f29abb211914",
   "metadata": {},
   "source": [
    "### 혼인 상태 변수 검토 및 전처리"
   ]
  },
  {
   "cell_type": "code",
   "execution_count": 69,
   "id": "15f1260d-84fa-46aa-aff0-0ce1e85f7ba0",
   "metadata": {},
   "outputs": [
    {
     "data": {
      "text/plain": [
       "dtype('float64')"
      ]
     },
     "execution_count": 69,
     "metadata": {},
     "output_type": "execute_result"
    }
   ],
   "source": [
    "# 변수 검토\n",
    "welfare['marriage_type'].dtypes"
   ]
  },
  {
   "cell_type": "code",
   "execution_count": 70,
   "id": "32632e7a-cebf-420d-b754-281402878124",
   "metadata": {},
   "outputs": [
    {
     "data": {
      "text/plain": [
       "1.0    7190\n",
       "5.0    2357\n",
       "0.0    2121\n",
       "2.0    1954\n",
       "3.0     689\n",
       "4.0      78\n",
       "6.0      29\n",
       "Name: marriage_type, dtype: int64"
      ]
     },
     "execution_count": 70,
     "metadata": {},
     "output_type": "execute_result"
    }
   ],
   "source": [
    "# 빈도 구하기\n",
    "welfare['marriage_type'].value_counts()"
   ]
  },
  {
   "cell_type": "code",
   "execution_count": 71,
   "id": "c8346f8e-efd7-46a5-8f7b-e22eed142065",
   "metadata": {},
   "outputs": [],
   "source": [
    "# 파생변수 생성. 코드북 '혼인 상태' 항목 참고. 배우자가 있으면 1, 이혼은 3으로 생성\n",
    "welfare['marriage'] = np.where(welfare['marriage_type'] == 1, 'marriage', \n",
    "                      np.where(welfare['marriage_type'] == 3, 'divorce',\n",
    "                                                              'etc'))"
   ]
  },
  {
   "cell_type": "code",
   "execution_count": 72,
   "id": "a367c137-6b52-482a-b03d-24ab7336f638",
   "metadata": {},
   "outputs": [
    {
     "data": {
      "text/html": [
       "<div>\n",
       "<style scoped>\n",
       "    .dataframe tbody tr th:only-of-type {\n",
       "        vertical-align: middle;\n",
       "    }\n",
       "\n",
       "    .dataframe tbody tr th {\n",
       "        vertical-align: top;\n",
       "    }\n",
       "\n",
       "    .dataframe thead th {\n",
       "        text-align: right;\n",
       "    }\n",
       "</style>\n",
       "<table border=\"1\" class=\"dataframe\">\n",
       "  <thead>\n",
       "    <tr style=\"text-align: right;\">\n",
       "      <th></th>\n",
       "      <th>marriage</th>\n",
       "      <th>n</th>\n",
       "    </tr>\n",
       "  </thead>\n",
       "  <tbody>\n",
       "    <tr>\n",
       "      <th>0</th>\n",
       "      <td>divorce</td>\n",
       "      <td>689</td>\n",
       "    </tr>\n",
       "    <tr>\n",
       "      <th>1</th>\n",
       "      <td>etc</td>\n",
       "      <td>6539</td>\n",
       "    </tr>\n",
       "    <tr>\n",
       "      <th>2</th>\n",
       "      <td>marriage</td>\n",
       "      <td>7190</td>\n",
       "    </tr>\n",
       "  </tbody>\n",
       "</table>\n",
       "</div>"
      ],
      "text/plain": [
       "   marriage     n\n",
       "0   divorce   689\n",
       "1       etc  6539\n",
       "2  marriage  7190"
      ]
     },
     "execution_count": 72,
     "metadata": {},
     "output_type": "execute_result"
    }
   ],
   "source": [
    "# 이혼 여부별 빈도\n",
    "n_divorce = welfare.groupby('marriage', as_index = False) \\\n",
    "                    .agg(n = ('marriage', 'count'))\n",
    "n_divorce"
   ]
  },
  {
   "cell_type": "code",
   "execution_count": 73,
   "id": "0b555ffe-1015-46db-b527-030d72e3c980",
   "metadata": {},
   "outputs": [
    {
     "data": {
      "text/plain": [
       "<AxesSubplot:xlabel='marriage', ylabel='n'>"
      ]
     },
     "execution_count": 73,
     "metadata": {},
     "output_type": "execute_result"
    },
    {
     "data": {
      "image/png": "[encoded data removed]",
      "text/plain": [
       "<Figure size 640x480 with 1 Axes>"
      ]
     },
     "metadata": {},
     "output_type": "display_data"
    }
   ],
   "source": [
    "# 막대 그래프 생성\n",
    "sns.barplot(data = n_divorce, x = 'marriage', y = 'n')"
   ]
  },
  {
   "cell_type": "markdown",
   "id": "9d0bcd99-db35-49be-a3ea-007c3dbe47a3",
   "metadata": {},
   "source": [
    "### 종교 유무에 따른 이혼율 분석"
   ]
  },
  {
   "cell_type": "code",
   "execution_count": 74,
   "id": "3e531a51-a93f-4062-8f77-3ccff6be5df4",
   "metadata": {},
   "outputs": [
    {
     "data": {
      "text/html": [
       "<div>\n",
       "<style scoped>\n",
       "    .dataframe tbody tr th:only-of-type {\n",
       "        vertical-align: middle;\n",
       "    }\n",
       "\n",
       "    .dataframe tbody tr th {\n",
       "        vertical-align: top;\n",
       "    }\n",
       "\n",
       "    .dataframe thead th {\n",
       "        text-align: right;\n",
       "    }\n",
       "</style>\n",
       "<table border=\"1\" class=\"dataframe\">\n",
       "  <thead>\n",
       "    <tr style=\"text-align: right;\">\n",
       "      <th></th>\n",
       "      <th>religion</th>\n",
       "      <th>marriage</th>\n",
       "      <th>proportion</th>\n",
       "    </tr>\n",
       "  </thead>\n",
       "  <tbody>\n",
       "    <tr>\n",
       "      <th>0</th>\n",
       "      <td>no</td>\n",
       "      <td>marriage</td>\n",
       "      <td>0.905045</td>\n",
       "    </tr>\n",
       "    <tr>\n",
       "      <th>1</th>\n",
       "      <td>no</td>\n",
       "      <td>divorce</td>\n",
       "      <td>0.094955</td>\n",
       "    </tr>\n",
       "    <tr>\n",
       "      <th>2</th>\n",
       "      <td>yes</td>\n",
       "      <td>marriage</td>\n",
       "      <td>0.920469</td>\n",
       "    </tr>\n",
       "    <tr>\n",
       "      <th>3</th>\n",
       "      <td>yes</td>\n",
       "      <td>divorce</td>\n",
       "      <td>0.079531</td>\n",
       "    </tr>\n",
       "  </tbody>\n",
       "</table>\n",
       "</div>"
      ],
      "text/plain": [
       "  religion  marriage  proportion\n",
       "0       no  marriage    0.905045\n",
       "1       no   divorce    0.094955\n",
       "2      yes  marriage    0.920469\n",
       "3      yes   divorce    0.079531"
      ]
     },
     "execution_count": 74,
     "metadata": {},
     "output_type": "execute_result"
    }
   ],
   "source": [
    "# 종교 유무에 따른 이혼율표 생성\n",
    "# marriage가 etc 제외\n",
    "# religion별 분리\n",
    "# marriage 추출\n",
    "# 비율 구하기\n",
    "\n",
    "rel_div = welfare.query('marriage != \"etc\"') \\\n",
    "                  .groupby('religion', as_index = False)  \\\n",
    "                  ['marriage'] \\\n",
    "                  .value_counts(normalize = True)\n",
    "rel_div"
   ]
  },
  {
   "cell_type": "code",
   "execution_count": 75,
   "id": "5460d7b4-f5a1-415a-8f36-066e5e80168e",
   "metadata": {},
   "outputs": [
    {
     "data": {
      "text/html": [
       "<div>\n",
       "<style scoped>\n",
       "    .dataframe tbody tr th:only-of-type {\n",
       "        vertical-align: middle;\n",
       "    }\n",
       "\n",
       "    .dataframe tbody tr th {\n",
       "        vertical-align: top;\n",
       "    }\n",
       "\n",
       "    .dataframe thead th {\n",
       "        text-align: right;\n",
       "    }\n",
       "</style>\n",
       "<table border=\"1\" class=\"dataframe\">\n",
       "  <thead>\n",
       "    <tr style=\"text-align: right;\">\n",
       "      <th></th>\n",
       "      <th>religion</th>\n",
       "      <th>marriage</th>\n",
       "      <th>proportion</th>\n",
       "    </tr>\n",
       "  </thead>\n",
       "  <tbody>\n",
       "    <tr>\n",
       "      <th>1</th>\n",
       "      <td>no</td>\n",
       "      <td>divorce</td>\n",
       "      <td>9.5</td>\n",
       "    </tr>\n",
       "    <tr>\n",
       "      <th>3</th>\n",
       "      <td>yes</td>\n",
       "      <td>divorce</td>\n",
       "      <td>8.0</td>\n",
       "    </tr>\n",
       "  </tbody>\n",
       "</table>\n",
       "</div>"
      ],
      "text/plain": [
       "  religion marriage  proportion\n",
       "1       no  divorce         9.5\n",
       "3      yes  divorce         8.0"
      ]
     },
     "execution_count": 75,
     "metadata": {},
     "output_type": "execute_result"
    }
   ],
   "source": [
    "# 그래프 생성\n",
    "# divorce 추출\n",
    "# 백분율 변환\n",
    "# 소수점 첫째자리 반올림\n",
    "rel_div = rel_div.query('marriage == \"divorce\"') \\\n",
    "                  .assign(proportion = rel_div['proportion'] * 100) \\\n",
    "                  .round(1)\n",
    "rel_div"
   ]
  },
  {
   "cell_type": "code",
   "execution_count": 76,
   "id": "0a4e6e62-d57d-4d34-9034-970268728676",
   "metadata": {},
   "outputs": [
    {
     "data": {
      "text/plain": [
       "<AxesSubplot:xlabel='religion', ylabel='proportion'>"
      ]
     },
     "execution_count": 76,
     "metadata": {},
     "output_type": "execute_result"
    },
    {
     "data": {
      "image/png": "[encoded data removed]",
      "text/plain": [
       "<Figure size 640x480 with 1 Axes>"
      ]
     },
     "metadata": {},
     "output_type": "display_data"
    }
   ],
   "source": [
    "# 막대 그래프 생성\n",
    "sns.barplot(data = rel_div, x ='religion', y = 'proportion')"
   ]
  },
  {
   "cell_type": "markdown",
   "id": "ce3da3bc-dc6d-444d-9b0f-66879ebeb97c",
   "metadata": {},
   "source": [
    "### 연령대 및 종교 유무에 따른 이혼율 분석하기"
   ]
  },
  {
   "cell_type": "code",
   "execution_count": 77,
   "id": "e1e27cf0-87e3-46cd-b90a-b8289fe4bce1",
   "metadata": {},
   "outputs": [
    {
     "data": {
      "text/html": [
       "<div>\n",
       "<style scoped>\n",
       "    .dataframe tbody tr th:only-of-type {\n",
       "        vertical-align: middle;\n",
       "    }\n",
       "\n",
       "    .dataframe tbody tr th {\n",
       "        vertical-align: top;\n",
       "    }\n",
       "\n",
       "    .dataframe thead th {\n",
       "        text-align: right;\n",
       "    }\n",
       "</style>\n",
       "<table border=\"1\" class=\"dataframe\">\n",
       "  <thead>\n",
       "    <tr style=\"text-align: right;\">\n",
       "      <th></th>\n",
       "      <th>ageg</th>\n",
       "      <th>marriage</th>\n",
       "      <th>proportion</th>\n",
       "    </tr>\n",
       "  </thead>\n",
       "  <tbody>\n",
       "    <tr>\n",
       "      <th>0</th>\n",
       "      <td>middle</td>\n",
       "      <td>marriage</td>\n",
       "      <td>0.910302</td>\n",
       "    </tr>\n",
       "    <tr>\n",
       "      <th>1</th>\n",
       "      <td>middle</td>\n",
       "      <td>divorce</td>\n",
       "      <td>0.089698</td>\n",
       "    </tr>\n",
       "    <tr>\n",
       "      <th>2</th>\n",
       "      <td>old</td>\n",
       "      <td>marriage</td>\n",
       "      <td>0.914220</td>\n",
       "    </tr>\n",
       "    <tr>\n",
       "      <th>3</th>\n",
       "      <td>old</td>\n",
       "      <td>divorce</td>\n",
       "      <td>0.085780</td>\n",
       "    </tr>\n",
       "    <tr>\n",
       "      <th>4</th>\n",
       "      <td>young</td>\n",
       "      <td>marriage</td>\n",
       "      <td>0.950000</td>\n",
       "    </tr>\n",
       "    <tr>\n",
       "      <th>5</th>\n",
       "      <td>young</td>\n",
       "      <td>divorce</td>\n",
       "      <td>0.050000</td>\n",
       "    </tr>\n",
       "  </tbody>\n",
       "</table>\n",
       "</div>"
      ],
      "text/plain": [
       "     ageg  marriage  proportion\n",
       "0  middle  marriage    0.910302\n",
       "1  middle   divorce    0.089698\n",
       "2     old  marriage    0.914220\n",
       "3     old   divorce    0.085780\n",
       "4   young  marriage    0.950000\n",
       "5   young   divorce    0.050000"
      ]
     },
     "execution_count": 77,
     "metadata": {},
     "output_type": "execute_result"
    }
   ],
   "source": [
    "# 연령대별 이혼율표 만들기\n",
    "# etc 제외\n",
    "# ageg별 분리\n",
    "# marriage 추출\n",
    "# 비율 구하기\n",
    "\n",
    "age_div = welfare.query('marriage != \"etc\"') \\\n",
    "                  .groupby('ageg', as_index = False) \\\n",
    "                  ['marriage'] \\\n",
    "                  .value_counts(normalize = True)\n",
    "age_div"
   ]
  },
  {
   "cell_type": "code",
   "execution_count": 78,
   "id": "fad6d427-cd69-4076-86db-25ffb46b3c8f",
   "metadata": {},
   "outputs": [
    {
     "data": {
      "text/html": [
       "<div>\n",
       "<style scoped>\n",
       "    .dataframe tbody tr th:only-of-type {\n",
       "        vertical-align: middle;\n",
       "    }\n",
       "\n",
       "    .dataframe tbody tr th {\n",
       "        vertical-align: top;\n",
       "    }\n",
       "\n",
       "    .dataframe thead th {\n",
       "        text-align: right;\n",
       "    }\n",
       "</style>\n",
       "<table border=\"1\" class=\"dataframe\">\n",
       "  <thead>\n",
       "    <tr style=\"text-align: right;\">\n",
       "      <th></th>\n",
       "      <th>ageg</th>\n",
       "      <th>marriage</th>\n",
       "      <th>count</th>\n",
       "    </tr>\n",
       "  </thead>\n",
       "  <tbody>\n",
       "    <tr>\n",
       "      <th>0</th>\n",
       "      <td>middle</td>\n",
       "      <td>marriage</td>\n",
       "      <td>3552</td>\n",
       "    </tr>\n",
       "    <tr>\n",
       "      <th>1</th>\n",
       "      <td>middle</td>\n",
       "      <td>divorce</td>\n",
       "      <td>350</td>\n",
       "    </tr>\n",
       "    <tr>\n",
       "      <th>2</th>\n",
       "      <td>old</td>\n",
       "      <td>marriage</td>\n",
       "      <td>3581</td>\n",
       "    </tr>\n",
       "    <tr>\n",
       "      <th>3</th>\n",
       "      <td>old</td>\n",
       "      <td>divorce</td>\n",
       "      <td>336</td>\n",
       "    </tr>\n",
       "    <tr>\n",
       "      <th>4</th>\n",
       "      <td>young</td>\n",
       "      <td>marriage</td>\n",
       "      <td>57</td>\n",
       "    </tr>\n",
       "    <tr>\n",
       "      <th>5</th>\n",
       "      <td>young</td>\n",
       "      <td>divorce</td>\n",
       "      <td>3</td>\n",
       "    </tr>\n",
       "  </tbody>\n",
       "</table>\n",
       "</div>"
      ],
      "text/plain": [
       "     ageg  marriage  count\n",
       "0  middle  marriage   3552\n",
       "1  middle   divorce    350\n",
       "2     old  marriage   3581\n",
       "3     old   divorce    336\n",
       "4   young  marriage     57\n",
       "5   young   divorce      3"
      ]
     },
     "execution_count": 78,
     "metadata": {},
     "output_type": "execute_result"
    }
   ],
   "source": [
    "## 연령대 및 이혼 여부별 빈도\n",
    "\n",
    "# etc 제외\n",
    "# ageg별 분리\n",
    "# marriage 추출\n",
    "# 빈도 구하기\n",
    "\n",
    "welfare.query('marriage != \"etc\"') \\\n",
    "        .groupby('ageg', as_index = False)  \\\n",
    "        ['marriage'] \\\n",
    "        .value_counts()"
   ]
  },
  {
   "cell_type": "code",
   "execution_count": 79,
   "id": "60aad50c-5b0b-4296-b8e0-4447603d6687",
   "metadata": {},
   "outputs": [
    {
     "data": {
      "text/html": [
       "<div>\n",
       "<style scoped>\n",
       "    .dataframe tbody tr th:only-of-type {\n",
       "        vertical-align: middle;\n",
       "    }\n",
       "\n",
       "    .dataframe tbody tr th {\n",
       "        vertical-align: top;\n",
       "    }\n",
       "\n",
       "    .dataframe thead th {\n",
       "        text-align: right;\n",
       "    }\n",
       "</style>\n",
       "<table border=\"1\" class=\"dataframe\">\n",
       "  <thead>\n",
       "    <tr style=\"text-align: right;\">\n",
       "      <th></th>\n",
       "      <th>ageg</th>\n",
       "      <th>marriage</th>\n",
       "      <th>proportion</th>\n",
       "    </tr>\n",
       "  </thead>\n",
       "  <tbody>\n",
       "    <tr>\n",
       "      <th>1</th>\n",
       "      <td>middle</td>\n",
       "      <td>divorce</td>\n",
       "      <td>9.0</td>\n",
       "    </tr>\n",
       "    <tr>\n",
       "      <th>3</th>\n",
       "      <td>old</td>\n",
       "      <td>divorce</td>\n",
       "      <td>8.6</td>\n",
       "    </tr>\n",
       "  </tbody>\n",
       "</table>\n",
       "</div>"
      ],
      "text/plain": [
       "     ageg marriage  proportion\n",
       "1  middle  divorce         9.0\n",
       "3     old  divorce         8.6"
      ]
     },
     "execution_count": 79,
     "metadata": {},
     "output_type": "execute_result"
    }
   ],
   "source": [
    "# 연령대별 이혼율 그래프 생성\n",
    "# 초년층은 사례가 부족해 다른 연령대와 비교하기에 적합하지 않아 분석 작업에서 제외\n",
    "# 백분율 변환\n",
    "# 소수점 첫째자리 반올림\n",
    "\n",
    "age_div = age_div.query('ageg != \"young\" & marriage == \"divorce\"') \\\n",
    "                  .assign(proportion = age_div['proportion'] * 100) \\\n",
    "                  .round(1)\n",
    "age_div"
   ]
  },
  {
   "cell_type": "code",
   "execution_count": 80,
   "id": "03eb1ab0-5708-495d-b9f9-87e95b92b97b",
   "metadata": {},
   "outputs": [
    {
     "data": {
      "text/plain": [
       "<AxesSubplot:xlabel='ageg', ylabel='proportion'>"
      ]
     },
     "execution_count": 80,
     "metadata": {},
     "output_type": "execute_result"
    },
    {
     "data": {
      "image/png": "[encoded data removed]",
      "text/plain": [
       "<Figure size 640x480 with 1 Axes>"
      ]
     },
     "metadata": {},
     "output_type": "display_data"
    }
   ],
   "source": [
    "# 막대 그래프 생성\n",
    "sns.barplot(data = age_div, x = 'ageg', y = 'proportion')"
   ]
  },
  {
   "cell_type": "markdown",
   "id": "6bb971d3-a996-4066-ab3b-530f16251f0f",
   "metadata": {},
   "source": [
    "### 3. 연령대 및 종교 유무에 따른 이혼율표 만들기"
   ]
  },
  {
   "cell_type": "code",
   "execution_count": 81,
   "id": "5e5778a3-c072-4bd4-9d0d-bb0b553a2373",
   "metadata": {},
   "outputs": [
    {
     "data": {
      "text/html": [
       "<div>\n",
       "<style scoped>\n",
       "    .dataframe tbody tr th:only-of-type {\n",
       "        vertical-align: middle;\n",
       "    }\n",
       "\n",
       "    .dataframe tbody tr th {\n",
       "        vertical-align: top;\n",
       "    }\n",
       "\n",
       "    .dataframe thead th {\n",
       "        text-align: right;\n",
       "    }\n",
       "</style>\n",
       "<table border=\"1\" class=\"dataframe\">\n",
       "  <thead>\n",
       "    <tr style=\"text-align: right;\">\n",
       "      <th></th>\n",
       "      <th>ageg</th>\n",
       "      <th>religion</th>\n",
       "      <th>marriage</th>\n",
       "      <th>proportion</th>\n",
       "    </tr>\n",
       "  </thead>\n",
       "  <tbody>\n",
       "    <tr>\n",
       "      <th>0</th>\n",
       "      <td>middle</td>\n",
       "      <td>no</td>\n",
       "      <td>marriage</td>\n",
       "      <td>0.904953</td>\n",
       "    </tr>\n",
       "    <tr>\n",
       "      <th>1</th>\n",
       "      <td>middle</td>\n",
       "      <td>no</td>\n",
       "      <td>divorce</td>\n",
       "      <td>0.095047</td>\n",
       "    </tr>\n",
       "    <tr>\n",
       "      <th>2</th>\n",
       "      <td>middle</td>\n",
       "      <td>yes</td>\n",
       "      <td>marriage</td>\n",
       "      <td>0.917520</td>\n",
       "    </tr>\n",
       "    <tr>\n",
       "      <th>3</th>\n",
       "      <td>middle</td>\n",
       "      <td>yes</td>\n",
       "      <td>divorce</td>\n",
       "      <td>0.082480</td>\n",
       "    </tr>\n",
       "    <tr>\n",
       "      <th>4</th>\n",
       "      <td>old</td>\n",
       "      <td>no</td>\n",
       "      <td>marriage</td>\n",
       "      <td>0.904382</td>\n",
       "    </tr>\n",
       "    <tr>\n",
       "      <th>5</th>\n",
       "      <td>old</td>\n",
       "      <td>no</td>\n",
       "      <td>divorce</td>\n",
       "      <td>0.095618</td>\n",
       "    </tr>\n",
       "    <tr>\n",
       "      <th>6</th>\n",
       "      <td>old</td>\n",
       "      <td>yes</td>\n",
       "      <td>marriage</td>\n",
       "      <td>0.922222</td>\n",
       "    </tr>\n",
       "    <tr>\n",
       "      <th>7</th>\n",
       "      <td>old</td>\n",
       "      <td>yes</td>\n",
       "      <td>divorce</td>\n",
       "      <td>0.077778</td>\n",
       "    </tr>\n",
       "  </tbody>\n",
       "</table>\n",
       "</div>"
      ],
      "text/plain": [
       "     ageg religion  marriage  proportion\n",
       "0  middle       no  marriage    0.904953\n",
       "1  middle       no   divorce    0.095047\n",
       "2  middle      yes  marriage    0.917520\n",
       "3  middle      yes   divorce    0.082480\n",
       "4     old       no  marriage    0.904382\n",
       "5     old       no   divorce    0.095618\n",
       "6     old      yes  marriage    0.922222\n",
       "7     old      yes   divorce    0.077778"
      ]
     },
     "execution_count": 81,
     "metadata": {},
     "output_type": "execute_result"
    }
   ],
   "source": [
    "# etc 제외, 초년층 제외\n",
    "# ageg, religion별 분리\n",
    "# marriage 추출\n",
    "# 비율 구하기\n",
    "\n",
    "age_rel_div = welfare.query('marriage != \"etc\" & ageg != \"young\"')  \\\n",
    "                      .groupby(['ageg', 'religion'], as_index = False) \\\n",
    "                      ['marriage'] \\\n",
    "                      .value_counts(normalize = True)\n",
    "age_rel_div"
   ]
  },
  {
   "cell_type": "code",
   "execution_count": 82,
   "id": "889f6ccf-5d81-4fdb-8274-1c005c347e94",
   "metadata": {},
   "outputs": [
    {
     "data": {
      "text/html": [
       "<div>\n",
       "<style scoped>\n",
       "    .dataframe tbody tr th:only-of-type {\n",
       "        vertical-align: middle;\n",
       "    }\n",
       "\n",
       "    .dataframe tbody tr th {\n",
       "        vertical-align: top;\n",
       "    }\n",
       "\n",
       "    .dataframe thead th {\n",
       "        text-align: right;\n",
       "    }\n",
       "</style>\n",
       "<table border=\"1\" class=\"dataframe\">\n",
       "  <thead>\n",
       "    <tr style=\"text-align: right;\">\n",
       "      <th></th>\n",
       "      <th>ageg</th>\n",
       "      <th>religion</th>\n",
       "      <th>marriage</th>\n",
       "      <th>proportion</th>\n",
       "    </tr>\n",
       "  </thead>\n",
       "  <tbody>\n",
       "    <tr>\n",
       "      <th>1</th>\n",
       "      <td>middle</td>\n",
       "      <td>no</td>\n",
       "      <td>divorce</td>\n",
       "      <td>9.5</td>\n",
       "    </tr>\n",
       "    <tr>\n",
       "      <th>3</th>\n",
       "      <td>middle</td>\n",
       "      <td>yes</td>\n",
       "      <td>divorce</td>\n",
       "      <td>8.2</td>\n",
       "    </tr>\n",
       "    <tr>\n",
       "      <th>5</th>\n",
       "      <td>old</td>\n",
       "      <td>no</td>\n",
       "      <td>divorce</td>\n",
       "      <td>9.6</td>\n",
       "    </tr>\n",
       "    <tr>\n",
       "      <th>7</th>\n",
       "      <td>old</td>\n",
       "      <td>yes</td>\n",
       "      <td>divorce</td>\n",
       "      <td>7.8</td>\n",
       "    </tr>\n",
       "  </tbody>\n",
       "</table>\n",
       "</div>"
      ],
      "text/plain": [
       "     ageg religion marriage  proportion\n",
       "1  middle       no  divorce         9.5\n",
       "3  middle      yes  divorce         8.2\n",
       "5     old       no  divorce         9.6\n",
       "7     old      yes  divorce         7.8"
      ]
     },
     "execution_count": 82,
     "metadata": {},
     "output_type": "execute_result"
    }
   ],
   "source": [
    "# 그래프 생성\n",
    "# divorce 추출\n",
    "# 백분율 변환\n",
    "# 소수점 첫째자리 반올림\n",
    "\n",
    "age_rel_div = \\\n",
    "    age_rel_div.query('marriage ==\"divorce\"') \\\n",
    "                .assign(proportion = age_rel_div['proportion'] * 100) \\\n",
    "                .round(1)\n",
    "age_rel_div"
   ]
  },
  {
   "cell_type": "code",
   "execution_count": 83,
   "id": "e4bdc3e7-a040-4080-8acc-25112c373654",
   "metadata": {},
   "outputs": [
    {
     "data": {
      "text/plain": [
       "<AxesSubplot:xlabel='ageg', ylabel='proportion'>"
      ]
     },
     "execution_count": 83,
     "metadata": {},
     "output_type": "execute_result"
    },
    {
     "data": {
      "image/png": "[encoded data removed]",
      "text/plain": [
       "<Figure size 640x480 with 1 Axes>"
      ]
     },
     "metadata": {},
     "output_type": "display_data"
    }
   ],
   "source": [
    "# 막대 그래프 생성\n",
    "sns.barplot(data = age_rel_div, x = 'ageg', y = 'proportion', hue = 'religion')"
   ]
  },
  {
   "cell_type": "markdown",
   "id": "6d923435-700a-4678-841d-f5df0c31b6da",
   "metadata": {},
   "source": [
    "## 09-9 지역별 연령대 비율 - 어느 지역에 노년층이 많을까?\n"
   ]
  },
  {
   "cell_type": "markdown",
   "id": "46bb62ef-f559-4873-9383-ee518211cfeb",
   "metadata": {},
   "source": [
    "### 지역 변수 검토 및 전처리"
   ]
  },
  {
   "cell_type": "code",
   "execution_count": 84,
   "id": "658250da-8510-41a5-8483-be8294a27c81",
   "metadata": {},
   "outputs": [
    {
     "data": {
      "text/plain": [
       "dtype('float64')"
      ]
     },
     "execution_count": 84,
     "metadata": {},
     "output_type": "execute_result"
    }
   ],
   "source": [
    "# 변수 검토\n",
    "welfare['code_region'].dtypes"
   ]
  },
  {
   "cell_type": "code",
   "execution_count": 85,
   "id": "5995edb9-4493-48dd-9f30-2024f0661b3f",
   "metadata": {},
   "outputs": [
    {
     "data": {
      "text/plain": [
       "2.0    3246\n",
       "7.0    2466\n",
       "3.0    2448\n",
       "1.0    2002\n",
       "4.0    1728\n",
       "5.0    1391\n",
       "6.0    1137\n",
       "Name: code_region, dtype: int64"
      ]
     },
     "execution_count": 85,
     "metadata": {},
     "output_type": "execute_result"
    }
   ],
   "source": [
    "# 빈도 구하기\n",
    "welfare['code_region'].value_counts()"
   ]
  },
  {
   "cell_type": "code",
   "execution_count": 86,
   "id": "27c10006-8aab-4928-bbb8-fbc5eb8b1d63",
   "metadata": {},
   "outputs": [
    {
     "data": {
      "text/html": [
       "<div>\n",
       "<style scoped>\n",
       "    .dataframe tbody tr th:only-of-type {\n",
       "        vertical-align: middle;\n",
       "    }\n",
       "\n",
       "    .dataframe tbody tr th {\n",
       "        vertical-align: top;\n",
       "    }\n",
       "\n",
       "    .dataframe thead th {\n",
       "        text-align: right;\n",
       "    }\n",
       "</style>\n",
       "<table border=\"1\" class=\"dataframe\">\n",
       "  <thead>\n",
       "    <tr style=\"text-align: right;\">\n",
       "      <th></th>\n",
       "      <th>code_region</th>\n",
       "      <th>region</th>\n",
       "    </tr>\n",
       "  </thead>\n",
       "  <tbody>\n",
       "    <tr>\n",
       "      <th>0</th>\n",
       "      <td>1</td>\n",
       "      <td>서울</td>\n",
       "    </tr>\n",
       "    <tr>\n",
       "      <th>1</th>\n",
       "      <td>2</td>\n",
       "      <td>수도권(인천/경기)</td>\n",
       "    </tr>\n",
       "    <tr>\n",
       "      <th>2</th>\n",
       "      <td>3</td>\n",
       "      <td>부산/경남/울산</td>\n",
       "    </tr>\n",
       "    <tr>\n",
       "      <th>3</th>\n",
       "      <td>4</td>\n",
       "      <td>대구/경북</td>\n",
       "    </tr>\n",
       "    <tr>\n",
       "      <th>4</th>\n",
       "      <td>5</td>\n",
       "      <td>대전/충남</td>\n",
       "    </tr>\n",
       "    <tr>\n",
       "      <th>5</th>\n",
       "      <td>6</td>\n",
       "      <td>강원/충북</td>\n",
       "    </tr>\n",
       "    <tr>\n",
       "      <th>6</th>\n",
       "      <td>7</td>\n",
       "      <td>광주/전남/전북/제주도</td>\n",
       "    </tr>\n",
       "  </tbody>\n",
       "</table>\n",
       "</div>"
      ],
      "text/plain": [
       "   code_region        region\n",
       "0            1            서울\n",
       "1            2    수도권(인천/경기)\n",
       "2            3      부산/경남/울산\n",
       "3            4         대구/경북\n",
       "4            5         대전/충남\n",
       "5            6         강원/충북\n",
       "6            7  광주/전남/전북/제주도"
      ]
     },
     "execution_count": 86,
     "metadata": {},
     "output_type": "execute_result"
    }
   ],
   "source": [
    "# 전처리 code_regino 7개 값 = 7개 권역의 지역코드. 코드북 참고하여 지역 코드 목록 생성\n",
    "# 파생변수 추가\n",
    "# 지역코드 목록 생성\n",
    "\n",
    "list_region = pd.DataFrame({'code_region' : [1, 2, 3, 4, 5, 6, 7],\n",
    "                             'region'     : ['서울',\n",
    "                                             '수도권(인천/경기)',\n",
    "                                             '부산/경남/울산',\n",
    "                                             '대구/경북',\n",
    "                                             '대전/충남',\n",
    "                                             '강원/충북',\n",
    "                                             '광주/전남/전북/제주도']})\n",
    "list_region"
   ]
  },
  {
   "cell_type": "code",
   "execution_count": 87,
   "id": "e95726a7-c705-436d-8f7e-5cdb1a7045fb",
   "metadata": {},
   "outputs": [
    {
     "data": {
      "text/html": [
       "<div>\n",
       "<style scoped>\n",
       "    .dataframe tbody tr th:only-of-type {\n",
       "        vertical-align: middle;\n",
       "    }\n",
       "\n",
       "    .dataframe tbody tr th {\n",
       "        vertical-align: top;\n",
       "    }\n",
       "\n",
       "    .dataframe thead th {\n",
       "        text-align: right;\n",
       "    }\n",
       "</style>\n",
       "<table border=\"1\" class=\"dataframe\">\n",
       "  <thead>\n",
       "    <tr style=\"text-align: right;\">\n",
       "      <th></th>\n",
       "      <th>code_region</th>\n",
       "      <th>region</th>\n",
       "    </tr>\n",
       "  </thead>\n",
       "  <tbody>\n",
       "    <tr>\n",
       "      <th>0</th>\n",
       "      <td>1.0</td>\n",
       "      <td>서울</td>\n",
       "    </tr>\n",
       "    <tr>\n",
       "      <th>1</th>\n",
       "      <td>1.0</td>\n",
       "      <td>서울</td>\n",
       "    </tr>\n",
       "    <tr>\n",
       "      <th>2</th>\n",
       "      <td>1.0</td>\n",
       "      <td>서울</td>\n",
       "    </tr>\n",
       "    <tr>\n",
       "      <th>3</th>\n",
       "      <td>1.0</td>\n",
       "      <td>서울</td>\n",
       "    </tr>\n",
       "    <tr>\n",
       "      <th>4</th>\n",
       "      <td>1.0</td>\n",
       "      <td>서울</td>\n",
       "    </tr>\n",
       "  </tbody>\n",
       "</table>\n",
       "</div>"
      ],
      "text/plain": [
       "   code_region region\n",
       "0          1.0     서울\n",
       "1          1.0     서울\n",
       "2          1.0     서울\n",
       "3          1.0     서울\n",
       "4          1.0     서울"
      ]
     },
     "execution_count": 87,
     "metadata": {},
     "output_type": "execute_result"
    }
   ],
   "source": [
    "# 지역명 변수 추가\n",
    "welfare = welfare.merge(list_region, how = 'left', on = 'code_region')\n",
    "welfare[['code_region', 'region']].head()"
   ]
  },
  {
   "cell_type": "markdown",
   "id": "eda5bbca-e55a-4b0d-989f-4d4172d01c20",
   "metadata": {},
   "source": [
    "### 지역별 연령대 비율 분석하기"
   ]
  },
  {
   "cell_type": "code",
   "execution_count": 88,
   "id": "59a71249-ac2e-4e6b-847d-a660aa0c994c",
   "metadata": {},
   "outputs": [
    {
     "data": {
      "text/html": [
       "<div>\n",
       "<style scoped>\n",
       "    .dataframe tbody tr th:only-of-type {\n",
       "        vertical-align: middle;\n",
       "    }\n",
       "\n",
       "    .dataframe tbody tr th {\n",
       "        vertical-align: top;\n",
       "    }\n",
       "\n",
       "    .dataframe thead th {\n",
       "        text-align: right;\n",
       "    }\n",
       "</style>\n",
       "<table border=\"1\" class=\"dataframe\">\n",
       "  <thead>\n",
       "    <tr style=\"text-align: right;\">\n",
       "      <th></th>\n",
       "      <th>region</th>\n",
       "      <th>ageg</th>\n",
       "      <th>proportion</th>\n",
       "    </tr>\n",
       "  </thead>\n",
       "  <tbody>\n",
       "    <tr>\n",
       "      <th>0</th>\n",
       "      <td>강원/충북</td>\n",
       "      <td>old</td>\n",
       "      <td>0.459103</td>\n",
       "    </tr>\n",
       "    <tr>\n",
       "      <th>1</th>\n",
       "      <td>강원/충북</td>\n",
       "      <td>middle</td>\n",
       "      <td>0.308707</td>\n",
       "    </tr>\n",
       "    <tr>\n",
       "      <th>2</th>\n",
       "      <td>강원/충북</td>\n",
       "      <td>young</td>\n",
       "      <td>0.232190</td>\n",
       "    </tr>\n",
       "    <tr>\n",
       "      <th>3</th>\n",
       "      <td>광주/전남/전북/제주도</td>\n",
       "      <td>old</td>\n",
       "      <td>0.449311</td>\n",
       "    </tr>\n",
       "    <tr>\n",
       "      <th>4</th>\n",
       "      <td>광주/전남/전북/제주도</td>\n",
       "      <td>middle</td>\n",
       "      <td>0.317924</td>\n",
       "    </tr>\n",
       "    <tr>\n",
       "      <th>5</th>\n",
       "      <td>광주/전남/전북/제주도</td>\n",
       "      <td>young</td>\n",
       "      <td>0.232766</td>\n",
       "    </tr>\n",
       "    <tr>\n",
       "      <th>6</th>\n",
       "      <td>대구/경북</td>\n",
       "      <td>old</td>\n",
       "      <td>0.504051</td>\n",
       "    </tr>\n",
       "    <tr>\n",
       "      <th>7</th>\n",
       "      <td>대구/경북</td>\n",
       "      <td>middle</td>\n",
       "      <td>0.296296</td>\n",
       "    </tr>\n",
       "    <tr>\n",
       "      <th>8</th>\n",
       "      <td>대구/경북</td>\n",
       "      <td>young</td>\n",
       "      <td>0.199653</td>\n",
       "    </tr>\n",
       "    <tr>\n",
       "      <th>9</th>\n",
       "      <td>대전/충남</td>\n",
       "      <td>old</td>\n",
       "      <td>0.413372</td>\n",
       "    </tr>\n",
       "    <tr>\n",
       "      <th>10</th>\n",
       "      <td>대전/충남</td>\n",
       "      <td>middle</td>\n",
       "      <td>0.336449</td>\n",
       "    </tr>\n",
       "    <tr>\n",
       "      <th>11</th>\n",
       "      <td>대전/충남</td>\n",
       "      <td>young</td>\n",
       "      <td>0.250180</td>\n",
       "    </tr>\n",
       "    <tr>\n",
       "      <th>12</th>\n",
       "      <td>부산/경남/울산</td>\n",
       "      <td>old</td>\n",
       "      <td>0.437500</td>\n",
       "    </tr>\n",
       "    <tr>\n",
       "      <th>13</th>\n",
       "      <td>부산/경남/울산</td>\n",
       "      <td>middle</td>\n",
       "      <td>0.333742</td>\n",
       "    </tr>\n",
       "    <tr>\n",
       "      <th>14</th>\n",
       "      <td>부산/경남/울산</td>\n",
       "      <td>young</td>\n",
       "      <td>0.228758</td>\n",
       "    </tr>\n",
       "    <tr>\n",
       "      <th>15</th>\n",
       "      <td>서울</td>\n",
       "      <td>middle</td>\n",
       "      <td>0.385115</td>\n",
       "    </tr>\n",
       "    <tr>\n",
       "      <th>16</th>\n",
       "      <td>서울</td>\n",
       "      <td>old</td>\n",
       "      <td>0.376124</td>\n",
       "    </tr>\n",
       "    <tr>\n",
       "      <th>17</th>\n",
       "      <td>서울</td>\n",
       "      <td>young</td>\n",
       "      <td>0.238761</td>\n",
       "    </tr>\n",
       "    <tr>\n",
       "      <th>18</th>\n",
       "      <td>수도권(인천/경기)</td>\n",
       "      <td>middle</td>\n",
       "      <td>0.388170</td>\n",
       "    </tr>\n",
       "    <tr>\n",
       "      <th>19</th>\n",
       "      <td>수도권(인천/경기)</td>\n",
       "      <td>old</td>\n",
       "      <td>0.325015</td>\n",
       "    </tr>\n",
       "    <tr>\n",
       "      <th>20</th>\n",
       "      <td>수도권(인천/경기)</td>\n",
       "      <td>young</td>\n",
       "      <td>0.286815</td>\n",
       "    </tr>\n",
       "  </tbody>\n",
       "</table>\n",
       "</div>"
      ],
      "text/plain": [
       "          region    ageg  proportion\n",
       "0          강원/충북     old    0.459103\n",
       "1          강원/충북  middle    0.308707\n",
       "2          강원/충북   young    0.232190\n",
       "3   광주/전남/전북/제주도     old    0.449311\n",
       "4   광주/전남/전북/제주도  middle    0.317924\n",
       "5   광주/전남/전북/제주도   young    0.232766\n",
       "6          대구/경북     old    0.504051\n",
       "7          대구/경북  middle    0.296296\n",
       "8          대구/경북   young    0.199653\n",
       "9          대전/충남     old    0.413372\n",
       "10         대전/충남  middle    0.336449\n",
       "11         대전/충남   young    0.250180\n",
       "12      부산/경남/울산     old    0.437500\n",
       "13      부산/경남/울산  middle    0.333742\n",
       "14      부산/경남/울산   young    0.228758\n",
       "15            서울  middle    0.385115\n",
       "16            서울     old    0.376124\n",
       "17            서울   young    0.238761\n",
       "18    수도권(인천/경기)  middle    0.388170\n",
       "19    수도권(인천/경기)     old    0.325015\n",
       "20    수도권(인천/경기)   young    0.286815"
      ]
     },
     "execution_count": 88,
     "metadata": {},
     "output_type": "execute_result"
    }
   ],
   "source": [
    "# 지역별 연령대 비율표 생성\n",
    "region_ageg = welfare.groupby('region', as_index = False) \\\n",
    "                     ['ageg'] \\\n",
    "                     .value_counts(normalize = True)\n",
    "region_ageg"
   ]
  },
  {
   "cell_type": "code",
   "execution_count": 89,
   "id": "e2ac5cba-c2a9-4497-9ebc-6ba070a4323c",
   "metadata": {},
   "outputs": [
    {
     "data": {
      "text/html": [
       "<div>\n",
       "<style scoped>\n",
       "    .dataframe tbody tr th:only-of-type {\n",
       "        vertical-align: middle;\n",
       "    }\n",
       "\n",
       "    .dataframe tbody tr th {\n",
       "        vertical-align: top;\n",
       "    }\n",
       "\n",
       "    .dataframe thead th {\n",
       "        text-align: right;\n",
       "    }\n",
       "</style>\n",
       "<table border=\"1\" class=\"dataframe\">\n",
       "  <thead>\n",
       "    <tr style=\"text-align: right;\">\n",
       "      <th></th>\n",
       "      <th>region</th>\n",
       "      <th>ageg</th>\n",
       "      <th>proportion</th>\n",
       "    </tr>\n",
       "  </thead>\n",
       "  <tbody>\n",
       "    <tr>\n",
       "      <th>0</th>\n",
       "      <td>강원/충북</td>\n",
       "      <td>old</td>\n",
       "      <td>45.9</td>\n",
       "    </tr>\n",
       "    <tr>\n",
       "      <th>1</th>\n",
       "      <td>강원/충북</td>\n",
       "      <td>middle</td>\n",
       "      <td>30.9</td>\n",
       "    </tr>\n",
       "    <tr>\n",
       "      <th>2</th>\n",
       "      <td>강원/충북</td>\n",
       "      <td>young</td>\n",
       "      <td>23.2</td>\n",
       "    </tr>\n",
       "    <tr>\n",
       "      <th>3</th>\n",
       "      <td>광주/전남/전북/제주도</td>\n",
       "      <td>old</td>\n",
       "      <td>44.9</td>\n",
       "    </tr>\n",
       "    <tr>\n",
       "      <th>4</th>\n",
       "      <td>광주/전남/전북/제주도</td>\n",
       "      <td>middle</td>\n",
       "      <td>31.8</td>\n",
       "    </tr>\n",
       "    <tr>\n",
       "      <th>5</th>\n",
       "      <td>광주/전남/전북/제주도</td>\n",
       "      <td>young</td>\n",
       "      <td>23.3</td>\n",
       "    </tr>\n",
       "    <tr>\n",
       "      <th>6</th>\n",
       "      <td>대구/경북</td>\n",
       "      <td>old</td>\n",
       "      <td>50.4</td>\n",
       "    </tr>\n",
       "    <tr>\n",
       "      <th>7</th>\n",
       "      <td>대구/경북</td>\n",
       "      <td>middle</td>\n",
       "      <td>29.6</td>\n",
       "    </tr>\n",
       "    <tr>\n",
       "      <th>8</th>\n",
       "      <td>대구/경북</td>\n",
       "      <td>young</td>\n",
       "      <td>20.0</td>\n",
       "    </tr>\n",
       "    <tr>\n",
       "      <th>9</th>\n",
       "      <td>대전/충남</td>\n",
       "      <td>old</td>\n",
       "      <td>41.3</td>\n",
       "    </tr>\n",
       "    <tr>\n",
       "      <th>10</th>\n",
       "      <td>대전/충남</td>\n",
       "      <td>middle</td>\n",
       "      <td>33.6</td>\n",
       "    </tr>\n",
       "    <tr>\n",
       "      <th>11</th>\n",
       "      <td>대전/충남</td>\n",
       "      <td>young</td>\n",
       "      <td>25.0</td>\n",
       "    </tr>\n",
       "    <tr>\n",
       "      <th>12</th>\n",
       "      <td>부산/경남/울산</td>\n",
       "      <td>old</td>\n",
       "      <td>43.8</td>\n",
       "    </tr>\n",
       "    <tr>\n",
       "      <th>13</th>\n",
       "      <td>부산/경남/울산</td>\n",
       "      <td>middle</td>\n",
       "      <td>33.4</td>\n",
       "    </tr>\n",
       "    <tr>\n",
       "      <th>14</th>\n",
       "      <td>부산/경남/울산</td>\n",
       "      <td>young</td>\n",
       "      <td>22.9</td>\n",
       "    </tr>\n",
       "    <tr>\n",
       "      <th>15</th>\n",
       "      <td>서울</td>\n",
       "      <td>middle</td>\n",
       "      <td>38.5</td>\n",
       "    </tr>\n",
       "    <tr>\n",
       "      <th>16</th>\n",
       "      <td>서울</td>\n",
       "      <td>old</td>\n",
       "      <td>37.6</td>\n",
       "    </tr>\n",
       "    <tr>\n",
       "      <th>17</th>\n",
       "      <td>서울</td>\n",
       "      <td>young</td>\n",
       "      <td>23.9</td>\n",
       "    </tr>\n",
       "    <tr>\n",
       "      <th>18</th>\n",
       "      <td>수도권(인천/경기)</td>\n",
       "      <td>middle</td>\n",
       "      <td>38.8</td>\n",
       "    </tr>\n",
       "    <tr>\n",
       "      <th>19</th>\n",
       "      <td>수도권(인천/경기)</td>\n",
       "      <td>old</td>\n",
       "      <td>32.5</td>\n",
       "    </tr>\n",
       "    <tr>\n",
       "      <th>20</th>\n",
       "      <td>수도권(인천/경기)</td>\n",
       "      <td>young</td>\n",
       "      <td>28.7</td>\n",
       "    </tr>\n",
       "  </tbody>\n",
       "</table>\n",
       "</div>"
      ],
      "text/plain": [
       "          region    ageg  proportion\n",
       "0          강원/충북     old        45.9\n",
       "1          강원/충북  middle        30.9\n",
       "2          강원/충북   young        23.2\n",
       "3   광주/전남/전북/제주도     old        44.9\n",
       "4   광주/전남/전북/제주도  middle        31.8\n",
       "5   광주/전남/전북/제주도   young        23.3\n",
       "6          대구/경북     old        50.4\n",
       "7          대구/경북  middle        29.6\n",
       "8          대구/경북   young        20.0\n",
       "9          대전/충남     old        41.3\n",
       "10         대전/충남  middle        33.6\n",
       "11         대전/충남   young        25.0\n",
       "12      부산/경남/울산     old        43.8\n",
       "13      부산/경남/울산  middle        33.4\n",
       "14      부산/경남/울산   young        22.9\n",
       "15            서울  middle        38.5\n",
       "16            서울     old        37.6\n",
       "17            서울   young        23.9\n",
       "18    수도권(인천/경기)  middle        38.8\n",
       "19    수도권(인천/경기)     old        32.5\n",
       "20    수도권(인천/경기)   young        28.7"
      ]
     },
     "execution_count": 89,
     "metadata": {},
     "output_type": "execute_result"
    }
   ],
   "source": [
    "# 그래프 생성\n",
    "# 밴분율 변환\n",
    "# 소수점 첫째 자리 반올림\n",
    "region_ageg = \\\n",
    "    region_ageg.assign(proportion = region_ageg ['proportion'] * 100) \\\n",
    "                .round(1)\n",
    "region_ageg"
   ]
  },
  {
   "cell_type": "code",
   "execution_count": 90,
   "id": "c879ee8f-8daa-4d48-9cfa-58251faca723",
   "metadata": {},
   "outputs": [
    {
     "data": {
      "text/plain": [
       "<AxesSubplot:xlabel='proportion', ylabel='region'>"
      ]
     },
     "execution_count": 90,
     "metadata": {},
     "output_type": "execute_result"
    },
    {
     "data": {
      "image/png": "[encoded data removed]",
      "text/plain": [
       "<Figure size 640x480 with 1 Axes>"
      ]
     },
     "metadata": {},
     "output_type": "display_data"
    }
   ],
   "source": [
    "# 막대 그래프 생성\n",
    "sns.barplot(data = region_ageg, y = 'region', x = 'proportion', hue = 'ageg')"
   ]
  },
  {
   "cell_type": "code",
   "execution_count": 91,
   "id": "b7c55fc6-29b8-4dc4-8595-69ca4562770e",
   "metadata": {},
   "outputs": [],
   "source": [
    "# 지역별 비교 용이한 누적 비율 막대 그래프 생성"
   ]
  },
  {
   "cell_type": "code",
   "execution_count": 92,
   "id": "35a67d44-09da-41f3-835d-f00e6acff9d0",
   "metadata": {},
   "outputs": [
    {
     "data": {
      "text/html": [
       "<div>\n",
       "<style scoped>\n",
       "    .dataframe tbody tr th:only-of-type {\n",
       "        vertical-align: middle;\n",
       "    }\n",
       "\n",
       "    .dataframe tbody tr th {\n",
       "        vertical-align: top;\n",
       "    }\n",
       "\n",
       "    .dataframe thead th {\n",
       "        text-align: right;\n",
       "    }\n",
       "</style>\n",
       "<table border=\"1\" class=\"dataframe\">\n",
       "  <thead>\n",
       "    <tr style=\"text-align: right;\">\n",
       "      <th>ageg</th>\n",
       "      <th>middle</th>\n",
       "      <th>old</th>\n",
       "      <th>young</th>\n",
       "    </tr>\n",
       "    <tr>\n",
       "      <th>region</th>\n",
       "      <th></th>\n",
       "      <th></th>\n",
       "      <th></th>\n",
       "    </tr>\n",
       "  </thead>\n",
       "  <tbody>\n",
       "    <tr>\n",
       "      <th>강원/충북</th>\n",
       "      <td>30.9</td>\n",
       "      <td>45.9</td>\n",
       "      <td>23.2</td>\n",
       "    </tr>\n",
       "    <tr>\n",
       "      <th>광주/전남/전북/제주도</th>\n",
       "      <td>31.8</td>\n",
       "      <td>44.9</td>\n",
       "      <td>23.3</td>\n",
       "    </tr>\n",
       "    <tr>\n",
       "      <th>대구/경북</th>\n",
       "      <td>29.6</td>\n",
       "      <td>50.4</td>\n",
       "      <td>20.0</td>\n",
       "    </tr>\n",
       "    <tr>\n",
       "      <th>대전/충남</th>\n",
       "      <td>33.6</td>\n",
       "      <td>41.3</td>\n",
       "      <td>25.0</td>\n",
       "    </tr>\n",
       "    <tr>\n",
       "      <th>부산/경남/울산</th>\n",
       "      <td>33.4</td>\n",
       "      <td>43.8</td>\n",
       "      <td>22.9</td>\n",
       "    </tr>\n",
       "    <tr>\n",
       "      <th>서울</th>\n",
       "      <td>38.5</td>\n",
       "      <td>37.6</td>\n",
       "      <td>23.9</td>\n",
       "    </tr>\n",
       "    <tr>\n",
       "      <th>수도권(인천/경기)</th>\n",
       "      <td>38.8</td>\n",
       "      <td>32.5</td>\n",
       "      <td>28.7</td>\n",
       "    </tr>\n",
       "  </tbody>\n",
       "</table>\n",
       "</div>"
      ],
      "text/plain": [
       "ageg          middle   old  young\n",
       "region                           \n",
       "강원/충북           30.9  45.9   23.2\n",
       "광주/전남/전북/제주도    31.8  44.9   23.3\n",
       "대구/경북           29.6  50.4   20.0\n",
       "대전/충남           33.6  41.3   25.0\n",
       "부산/경남/울산        33.4  43.8   22.9\n",
       "서울              38.5  37.6   23.9\n",
       "수도권(인천/경기)      38.8  32.5   28.7"
      ]
     },
     "execution_count": 92,
     "metadata": {},
     "output_type": "execute_result"
    }
   ],
   "source": [
    "# 누적 막대 그래프 직관화를 위해 행.열 피벗\n",
    "# 지역, 연령대, 비율 변수 추출\n",
    "\n",
    "pivot_df = \\\n",
    "    region_ageg[['region', 'ageg', 'proportion']].pivot(index = 'region',\n",
    "                                                        columns = 'ageg',\n",
    "                                                        values = 'proportion')\n",
    "pivot_df"
   ]
  },
  {
   "cell_type": "code",
   "execution_count": 93,
   "id": "1a752c82-956f-4305-825f-28353c4e46e3",
   "metadata": {},
   "outputs": [
    {
     "data": {
      "text/plain": [
       "<AxesSubplot:ylabel='region'>"
      ]
     },
     "execution_count": 93,
     "metadata": {},
     "output_type": "execute_result"
    },
    {
     "data": {
      "image/png": "[encoded data removed]",
      "text/plain": [
       "<Figure size 640x480 with 1 Axes>"
      ]
     },
     "metadata": {},
     "output_type": "display_data"
    }
   ],
   "source": [
    "# 누적 가로 막대  그래프 생성. stacked = True 파라미터 설정으로 누적 생성\n",
    "pivot_df.plot.barh(stacked = True)"
   ]
  },
  {
   "cell_type": "code",
   "execution_count": 94,
   "id": "4c6ae24e-9088-4b17-89ee-1fac7e557401",
   "metadata": {},
   "outputs": [
    {
     "data": {
      "text/html": [
       "<div>\n",
       "<style scoped>\n",
       "    .dataframe tbody tr th:only-of-type {\n",
       "        vertical-align: middle;\n",
       "    }\n",
       "\n",
       "    .dataframe tbody tr th {\n",
       "        vertical-align: top;\n",
       "    }\n",
       "\n",
       "    .dataframe thead th {\n",
       "        text-align: right;\n",
       "    }\n",
       "</style>\n",
       "<table border=\"1\" class=\"dataframe\">\n",
       "  <thead>\n",
       "    <tr style=\"text-align: right;\">\n",
       "      <th>ageg</th>\n",
       "      <th>young</th>\n",
       "      <th>middle</th>\n",
       "      <th>old</th>\n",
       "    </tr>\n",
       "    <tr>\n",
       "      <th>region</th>\n",
       "      <th></th>\n",
       "      <th></th>\n",
       "      <th></th>\n",
       "    </tr>\n",
       "  </thead>\n",
       "  <tbody>\n",
       "    <tr>\n",
       "      <th>수도권(인천/경기)</th>\n",
       "      <td>28.7</td>\n",
       "      <td>38.8</td>\n",
       "      <td>32.5</td>\n",
       "    </tr>\n",
       "    <tr>\n",
       "      <th>서울</th>\n",
       "      <td>23.9</td>\n",
       "      <td>38.5</td>\n",
       "      <td>37.6</td>\n",
       "    </tr>\n",
       "    <tr>\n",
       "      <th>대전/충남</th>\n",
       "      <td>25.0</td>\n",
       "      <td>33.6</td>\n",
       "      <td>41.3</td>\n",
       "    </tr>\n",
       "    <tr>\n",
       "      <th>부산/경남/울산</th>\n",
       "      <td>22.9</td>\n",
       "      <td>33.4</td>\n",
       "      <td>43.8</td>\n",
       "    </tr>\n",
       "    <tr>\n",
       "      <th>광주/전남/전북/제주도</th>\n",
       "      <td>23.3</td>\n",
       "      <td>31.8</td>\n",
       "      <td>44.9</td>\n",
       "    </tr>\n",
       "    <tr>\n",
       "      <th>강원/충북</th>\n",
       "      <td>23.2</td>\n",
       "      <td>30.9</td>\n",
       "      <td>45.9</td>\n",
       "    </tr>\n",
       "    <tr>\n",
       "      <th>대구/경북</th>\n",
       "      <td>20.0</td>\n",
       "      <td>29.6</td>\n",
       "      <td>50.4</td>\n",
       "    </tr>\n",
       "  </tbody>\n",
       "</table>\n",
       "</div>"
      ],
      "text/plain": [
       "ageg          young  middle   old\n",
       "region                           \n",
       "수도권(인천/경기)     28.7    38.8  32.5\n",
       "서울             23.9    38.5  37.6\n",
       "대전/충남          25.0    33.6  41.3\n",
       "부산/경남/울산       22.9    33.4  43.8\n",
       "광주/전남/전북/제주도   23.3    31.8  44.9\n",
       "강원/충북          23.2    30.9  45.9\n",
       "대구/경북          20.0    29.6  50.4"
      ]
     },
     "execution_count": 94,
     "metadata": {},
     "output_type": "execute_result"
    }
   ],
   "source": [
    "# 노년층 비율 높은 순으로 막대 정렬\n",
    "# 연령대 순 막대 색깔 나열\n",
    "\n",
    "reorder_df = pivot_df.sort_values('old')[['young', 'middle', 'old']]\n",
    "reorder_df"
   ]
  },
  {
   "cell_type": "code",
   "execution_count": 95,
   "id": "4c4f9ccb-0045-48a4-b882-b81b7ceb5cb5",
   "metadata": {},
   "outputs": [
    {
     "data": {
      "text/plain": [
       "<AxesSubplot:ylabel='region'>"
      ]
     },
     "execution_count": 95,
     "metadata": {},
     "output_type": "execute_result"
    },
    {
     "data": {
      "image/png": "[encoded data removed]",
      "text/plain": [
       "<Figure size 640x480 with 1 Axes>"
      ]
     },
     "metadata": {},
     "output_type": "display_data"
    }
   ],
   "source": [
    "# 누적 막대 그래프 생성\n",
    "reorder_df.plot.barh(stacked = True)"
   ]
  },
  {
   "cell_type": "code",
   "execution_count": null,
   "id": "6eb231ca-becc-4d87-a175-f7719167caf7",
   "metadata": {},
   "outputs": [],
   "source": []
  }
 ],
 "metadata": {
  "kernelspec": {
   "display_name": "Python 3 (ipykernel)",
   "language": "python",
   "name": "python3"
  },
  "language_info": {
   "codemirror_mode": {
    "name": "ipython",
    "version": 3
   },
   "file_extension": ".py",
   "mimetype": "text/x-python",
   "name": "python",
   "nbconvert_exporter": "python",
   "pygments_lexer": "ipython3",
   "version": "3.9.13"
  }
 },
 "nbformat": 4,
 "nbformat_minor": 5
}
